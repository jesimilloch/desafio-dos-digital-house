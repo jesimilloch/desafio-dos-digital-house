{
 "cells": [
  {
   "cell_type": "markdown",
   "id": "4ce181f9",
   "metadata": {},
   "source": [
    "# Desafio 2 Grupo 7\n",
    "\n",
    "## Regresión Lineal Múltiple <br> Modelos regularizados (Ridge y Lasso) y sin regularizar <br> \n",
    "\n",
    "\n",
    "\n",
    "Integrantes:\n",
    "\n",
    "\n",
    "\n",
    "> Albano Remonda\n",
    "\n",
    "> Jesica Milloch\n",
    "\n",
    "> Sebastian Salvarezza\n",
    "\n",
    "> Ezequiel Tokman\n",
    "\n",
    "> Nicolas Ramos"
   ]
  },
  {
   "cell_type": "markdown",
   "id": "38cd4c01",
   "metadata": {},
   "source": [
    "### Introducción"
   ]
  },
  {
   "cell_type": "markdown",
   "id": "95c52cfa",
   "metadata": {},
   "source": [
    "En el siguiente trabajo vamos a intentar crear una regresión lineal múltiple utilizando los datos de la base de datos de Properatti. <br>\n",
    "En el mismo, intentaremos predecir el precio por metro cuadrado de las propiedades múltiples barrios de CABA y algunos de zona norte, a partir de un conjunto de variables dummies y algunas numéricas, como la cantidad de habitaciones, superficie descubierta y superficie total."
   ]
  },
  {
   "cell_type": "markdown",
   "id": "3b69c0cb",
   "metadata": {},
   "source": [
    "Los datos con los que vamos a trabajar fueron previamente trabajados. En particular, las transformaciones y limpieza de datos más relevantes que realizamos son:\n",
    "- Completamos la columna _rooms_ extrayendo con Regex de la columna _description_.\n",
    "- Eliminamos outliers, utilizando rangos intercuartiles.\n",
    "- Seleccionamos los barrios en cuestión a partir de la columna _place_name_.\n",
    "- Creamos nuevas columnas que transformaremos a _dummies_, determinando si la propiedad en cuestión tiene piscina, balcon, estacionamiento, si es a estrenar, si tiene subte, metrobus, o tren cerca, y si cuenta con seguridad.\n",
    "- Calculamos la superficie descubierta de cada propiedad."
   ]
  },
  {
   "cell_type": "markdown",
   "id": "0030b19d",
   "metadata": {},
   "source": [
    "### Limpieza final"
   ]
  },
  {
   "cell_type": "code",
   "execution_count": 1,
   "id": "ae3a363f",
   "metadata": {},
   "outputs": [],
   "source": [
    "# Importamos librerías a utilizar\n",
    "\n",
    "import pandas as pd\n",
    "import numpy as np\n",
    "import seaborn as sns\n",
    "import matplotlib.pyplot as plt\n",
    "import matplotlib as mpl\n",
    "import re\n",
    "import io\n",
    "import sklearn\n",
    "from sklearn import linear_model\n",
    "from sklearn.model_selection import train_test_split\n",
    "from sklearn.linear_model import LinearRegression\n",
    "from sklearn import metrics\n",
    "import statsmodels.api as sm\n",
    "from statsmodels.tools import eval_measures\n",
    "from sklearn.metrics import mean_squared_error\n",
    "from sklearn.metrics import r2_score"
   ]
  },
  {
   "cell_type": "code",
   "execution_count": 2,
   "id": "d7df9b1e",
   "metadata": {},
   "outputs": [
    {
     "data": {
      "text/html": [
       "<div>\n",
       "<style scoped>\n",
       "    .dataframe tbody tr th:only-of-type {\n",
       "        vertical-align: middle;\n",
       "    }\n",
       "\n",
       "    .dataframe tbody tr th {\n",
       "        vertical-align: top;\n",
       "    }\n",
       "\n",
       "    .dataframe thead th {\n",
       "        text-align: right;\n",
       "    }\n",
       "</style>\n",
       "<table border=\"1\" class=\"dataframe\">\n",
       "  <thead>\n",
       "    <tr style=\"text-align: right;\">\n",
       "      <th></th>\n",
       "      <th>Unnamed: 0</th>\n",
       "      <th>Unnamed: 0.1</th>\n",
       "      <th>surface_covered_in_m2</th>\n",
       "      <th>price_usd_per_m2</th>\n",
       "      <th>surface_total_in_m2</th>\n",
       "      <th>rooms</th>\n",
       "      <th>description</th>\n",
       "      <th>property_type</th>\n",
       "      <th>place_name</th>\n",
       "      <th>parking</th>\n",
       "      <th>...</th>\n",
       "      <th>balcon</th>\n",
       "      <th>seguridad</th>\n",
       "      <th>subte</th>\n",
       "      <th>metrobus</th>\n",
       "      <th>tren</th>\n",
       "      <th>gimnasio</th>\n",
       "      <th>parque</th>\n",
       "      <th>surface_uncovered</th>\n",
       "      <th>ambientes2</th>\n",
       "      <th>place_name_house</th>\n",
       "    </tr>\n",
       "  </thead>\n",
       "  <tbody>\n",
       "    <tr>\n",
       "      <th>0</th>\n",
       "      <td>2</td>\n",
       "      <td>12</td>\n",
       "      <td>36.0</td>\n",
       "      <td>2948.717949</td>\n",
       "      <td>39.0</td>\n",
       "      <td>2.0</td>\n",
       "      <td>EXCELENTE DEPARTAMENTO 2 AMBIENTES CONTRAFRENT...</td>\n",
       "      <td>apartment</td>\n",
       "      <td>Martínez</td>\n",
       "      <td>False</td>\n",
       "      <td>...</td>\n",
       "      <td>False</td>\n",
       "      <td>False</td>\n",
       "      <td>False</td>\n",
       "      <td>False</td>\n",
       "      <td>False</td>\n",
       "      <td>False</td>\n",
       "      <td>False</td>\n",
       "      <td>3.0</td>\n",
       "      <td>2</td>\n",
       "      <td>Martínez apartment</td>\n",
       "    </tr>\n",
       "  </tbody>\n",
       "</table>\n",
       "<p>1 rows × 22 columns</p>\n",
       "</div>"
      ],
      "text/plain": [
       "   Unnamed: 0  Unnamed: 0.1  surface_covered_in_m2  price_usd_per_m2  \\\n",
       "0           2            12                   36.0       2948.717949   \n",
       "\n",
       "   surface_total_in_m2  rooms  \\\n",
       "0                 39.0    2.0   \n",
       "\n",
       "                                         description property_type place_name  \\\n",
       "0  EXCELENTE DEPARTAMENTO 2 AMBIENTES CONTRAFRENT...     apartment   Martínez   \n",
       "\n",
       "   parking  ...  balcon  seguridad  subte  metrobus   tren  gimnasio  parque  \\\n",
       "0    False  ...   False      False  False     False  False     False   False   \n",
       "\n",
       "   surface_uncovered  ambientes2    place_name_house  \n",
       "0                3.0           2  Martínez apartment  \n",
       "\n",
       "[1 rows x 22 columns]"
      ]
     },
     "execution_count": 2,
     "metadata": {},
     "output_type": "execute_result"
    }
   ],
   "source": [
    "# Importamos el dataset \n",
    "\n",
    "data = pd.read_csv(\"../Data/datos_input_tp2_2.csv\", sep=\",\")\n",
    "data.head(1)"
   ]
  },
  {
   "cell_type": "markdown",
   "id": "81f355a9",
   "metadata": {},
   "source": [
    "Renombramos la columna de precio por m2 para trabajar más cómodos"
   ]
  },
  {
   "cell_type": "code",
   "execution_count": 3,
   "id": "4f4acdb7",
   "metadata": {},
   "outputs": [],
   "source": [
    "data.rename(columns = {'price_usd_per_m2':'price_m2'}, inplace = True)"
   ]
  },
  {
   "cell_type": "markdown",
   "id": "3f2ab3ad",
   "metadata": {},
   "source": [
    "Las columnas con las que vamos a trabajar son las siguientes."
   ]
  },
  {
   "cell_type": "code",
   "execution_count": 4,
   "id": "0cb84a6e",
   "metadata": {},
   "outputs": [
    {
     "data": {
      "text/plain": [
       "Index(['Unnamed: 0', 'Unnamed: 0.1', 'surface_covered_in_m2', 'price_m2',\n",
       "       'surface_total_in_m2', 'rooms', 'description', 'property_type',\n",
       "       'place_name', 'parking', 'piscina', 'a_estrenar', 'balcon', 'seguridad',\n",
       "       'subte', 'metrobus', 'tren', 'gimnasio', 'parque', 'surface_uncovered',\n",
       "       'ambientes2', 'place_name_house'],\n",
       "      dtype='object')"
      ]
     },
     "execution_count": 4,
     "metadata": {},
     "output_type": "execute_result"
    }
   ],
   "source": [
    "data.columns"
   ]
  },
  {
   "cell_type": "markdown",
   "id": "9a437ccd",
   "metadata": {},
   "source": [
    "Con el histograma obsevamos que el grueso de las observaciones de los datos que tomamos tienen un precio por metro cuadrado que oscila mayoritariamente entre 1000 y 5000."
   ]
  },
  {
   "cell_type": "code",
   "execution_count": 5,
   "id": "3ff6c8a3",
   "metadata": {},
   "outputs": [
    {
     "data": {
      "image/png": "[encoded data removed]",
      "text/plain": [
       "<Figure size 1080x576 with 1 Axes>"
      ]
     },
     "metadata": {
      "needs_background": "light"
     },
     "output_type": "display_data"
    }
   ],
   "source": [
    "fig = plt.figure(figsize = (15,8))\n",
    "plt.hist(data.price_m2, bins=20, color='darkseagreen',density=True, edgecolor=\"black\", linewidth = .3)\n",
    "plt.title('Histograma de precio_m2', fontsize=18)\n",
    "plt.xlabel('precio_m2', fontsize=15)\n",
    "plt.ylabel('Ocurrencias', fontsize=15)\n",
    "plt.show()"
   ]
  },
  {
   "cell_type": "code",
   "execution_count": 6,
   "id": "8142156c",
   "metadata": {},
   "outputs": [
    {
     "data": {
      "text/plain": [
       "count    7653.000000\n",
       "mean     2729.288822\n",
       "std       757.623465\n",
       "min       288.888889\n",
       "25%      2234.424545\n",
       "50%      2671.232877\n",
       "75%      3138.461538\n",
       "max      5068.493151\n",
       "Name: price_m2, dtype: float64"
      ]
     },
     "execution_count": 6,
     "metadata": {},
     "output_type": "execute_result"
    }
   ],
   "source": [
    "data.price_m2.describe()"
   ]
  },
  {
   "cell_type": "markdown",
   "id": "d88034f8",
   "metadata": {},
   "source": [
    "Vemos que antes de comenzar a trabajar tenemos que hacer una limpieza de datos nulos, para las columnas _surface_covered_in_m2_, \n",
    "_surface_uncovered_, y _ambientes2_ (esta última es una columna auxiliar para mejorar la columna de _rooms_)."
   ]
  },
  {
   "cell_type": "code",
   "execution_count": 7,
   "id": "ef792715",
   "metadata": {},
   "outputs": [
    {
     "name": "stdout",
     "output_type": "stream",
     "text": [
      "Unnamed: 0                  0\n",
      "Unnamed: 0.1                0\n",
      "surface_covered_in_m2     195\n",
      "price_m2                    0\n",
      "surface_total_in_m2         0\n",
      "rooms                       0\n",
      "description                 0\n",
      "property_type               0\n",
      "place_name                  0\n",
      "parking                     0\n",
      "piscina                     0\n",
      "a_estrenar                  0\n",
      "balcon                      0\n",
      "seguridad                   0\n",
      "subte                       0\n",
      "metrobus                    0\n",
      "tren                        0\n",
      "gimnasio                    0\n",
      "parque                      0\n",
      "surface_uncovered         195\n",
      "ambientes2               1076\n",
      "place_name_house            0\n",
      "dtype: int64\n",
      "(7653, 22)\n"
     ]
    }
   ],
   "source": [
    "# Chequeamos los nulos\n",
    "\n",
    "print(data.isnull().sum())\n",
    "print(data.shape)"
   ]
  },
  {
   "cell_type": "code",
   "execution_count": 8,
   "id": "d4246a99",
   "metadata": {},
   "outputs": [],
   "source": [
    "# Limpiamos la columna ambientes2 \n",
    "\n",
    "data.drop(columns=['ambientes2'],inplace=True)"
   ]
  },
  {
   "cell_type": "code",
   "execution_count": 9,
   "id": "28752022",
   "metadata": {},
   "outputs": [],
   "source": [
    "# Limpiamos los nulos\n",
    "\n",
    "data = data.dropna()"
   ]
  },
  {
   "cell_type": "code",
   "execution_count": 10,
   "id": "12a7cdd8",
   "metadata": {},
   "outputs": [
    {
     "name": "stdout",
     "output_type": "stream",
     "text": [
      "Unnamed: 0               0\n",
      "Unnamed: 0.1             0\n",
      "surface_covered_in_m2    0\n",
      "price_m2                 0\n",
      "surface_total_in_m2      0\n",
      "rooms                    0\n",
      "description              0\n",
      "property_type            0\n",
      "place_name               0\n",
      "parking                  0\n",
      "piscina                  0\n",
      "a_estrenar               0\n",
      "balcon                   0\n",
      "seguridad                0\n",
      "subte                    0\n",
      "metrobus                 0\n",
      "tren                     0\n",
      "gimnasio                 0\n",
      "parque                   0\n",
      "surface_uncovered        0\n",
      "place_name_house         0\n",
      "dtype: int64\n",
      "(7458, 21)\n"
     ]
    }
   ],
   "source": [
    "# Volvemos a chequear que no tengamos más nulos\n",
    "\n",
    "print(data.isnull().sum())\n",
    "print(data.shape)"
   ]
  },
  {
   "cell_type": "code",
   "execution_count": 11,
   "id": "7ba38f2d",
   "metadata": {},
   "outputs": [
    {
     "data": {
      "text/html": [
       "<div>\n",
       "<style scoped>\n",
       "    .dataframe tbody tr th:only-of-type {\n",
       "        vertical-align: middle;\n",
       "    }\n",
       "\n",
       "    .dataframe tbody tr th {\n",
       "        vertical-align: top;\n",
       "    }\n",
       "\n",
       "    .dataframe thead th {\n",
       "        text-align: right;\n",
       "    }\n",
       "</style>\n",
       "<table border=\"1\" class=\"dataframe\">\n",
       "  <thead>\n",
       "    <tr style=\"text-align: right;\">\n",
       "      <th></th>\n",
       "      <th>property_type</th>\n",
       "    </tr>\n",
       "  </thead>\n",
       "  <tbody>\n",
       "    <tr>\n",
       "      <th>apartment</th>\n",
       "      <td>7012</td>\n",
       "    </tr>\n",
       "    <tr>\n",
       "      <th>house</th>\n",
       "      <td>446</td>\n",
       "    </tr>\n",
       "  </tbody>\n",
       "</table>\n",
       "</div>"
      ],
      "text/plain": [
       "           property_type\n",
       "apartment           7012\n",
       "house                446"
      ]
     },
     "execution_count": 11,
     "metadata": {},
     "output_type": "execute_result"
    }
   ],
   "source": [
    "properties = data.property_type.value_counts()\n",
    "properties = pd.DataFrame(properties)\n",
    "cantidades_properties = properties.property_type\n",
    "properties_index = (properties.index).tolist()\n",
    "properties_cantidades = (properties.values).tolist()\n",
    "properties_values = (properties.property_type).tolist()\n",
    "properties"
   ]
  },
  {
   "cell_type": "code",
   "execution_count": 12,
   "id": "2fa94288",
   "metadata": {},
   "outputs": [
    {
     "data": {
      "image/png": "[encoded data removed]",
      "text/plain": [
       "<Figure size 1080x576 with 1 Axes>"
      ]
     },
     "metadata": {
      "needs_background": "light"
     },
     "output_type": "display_data"
    }
   ],
   "source": [
    "fig = plt.figure(figsize = (15,8))\n",
    "ax = plt.axes()\n",
    "width=0.5\n",
    "labels= properties_values\n",
    "\n",
    "x = np.arange(len(properties_index))\n",
    "y = (properties_values)\n",
    "\n",
    "ax.set_yticks(x)\n",
    "ax.set_yticklabels(properties_index,fontsize=15)\n",
    "ax.set_xticks(y)\n",
    "ax.set_xticklabels(y,fontsize=15)\n",
    "ax.set_xlim(0,1)\n",
    "ax.set_title('Tipo de propiedad a analizar', fontsize = 20)\n",
    "\n",
    "x_ticks = [0, 1000, 2000, 3000, 4000, 5000, 6000, 7000, 8000]\n",
    "plt.xticks(ticks=x_ticks, labels=x_ticks)\n",
    "bars = ax.barh(x, y, width, data = properties, color='darkseagreen',edgecolor=\"black\", linewidth=1)\n",
    "ax.invert_yaxis()#\n",
    "\n",
    "for i, v in enumerate(y):\n",
    "    ax.text(v+100, i, str(v), fontsize=14)\n",
    "plt.show()"
   ]
  },
  {
   "cell_type": "code",
   "execution_count": 13,
   "id": "5f11b00e",
   "metadata": {},
   "outputs": [],
   "source": [
    "barrios = data.place_name.value_counts()\n",
    "barrios = pd.DataFrame(barrios)\n",
    "cantidades = barrios.place_name\n",
    "barrios_index = (barrios.index).tolist()\n",
    "barrios_cantidades = (barrios.values).tolist()\n",
    "barrios_values = (barrios.place_name).tolist()"
   ]
  },
  {
   "cell_type": "code",
   "execution_count": 14,
   "id": "d9bd8562",
   "metadata": {},
   "outputs": [
    {
     "data": {
      "image/png": "[encoded data removed]",
      "text/plain": [
       "<Figure size 1080x576 with 1 Axes>"
      ]
     },
     "metadata": {
      "needs_background": "light"
     },
     "output_type": "display_data"
    }
   ],
   "source": [
    "fig = plt.figure(figsize = (15, 8))\n",
    "ax = plt.axes()\n",
    "width=0.8\n",
    "labels= barrios_values\n",
    "\n",
    "x = np.arange(len(barrios_index))\n",
    "y = (barrios_values)\n",
    "\n",
    "ax.set_yticks(x)\n",
    "ax.set_yticklabels(barrios_index,fontsize=15)\n",
    "ax.set_xticks(y)\n",
    "ax.set_xticklabels(y,fontsize=15)\n",
    "ax.set_xlim(0,1)\n",
    "ax.set_title('Cantidad de observaciones por barrio', fontsize = 20)\n",
    "\n",
    "x_ticks = [0, 500,1000, 1500]\n",
    "plt.xticks(ticks=x_ticks, labels=x_ticks)\n",
    "bars = ax.barh(x, y, width, data = barrios, color='darkseagreen',edgecolor=\"black\", linewidth=1)\n",
    "ax.invert_yaxis()#\n",
    "\n",
    "for i, v in enumerate(y):\n",
    "    ax.text(v+10, i +.18, str(v), fontsize=14)\n",
    "plt.show()"
   ]
  },
  {
   "cell_type": "markdown",
   "id": "2c8f8439",
   "metadata": {},
   "source": [
    "Vemos cómo nos queda un dataset de 7458 filas"
   ]
  },
  {
   "cell_type": "markdown",
   "id": "b1bf6aca",
   "metadata": {},
   "source": [
    "### Análisis exploratorio"
   ]
  },
  {
   "cell_type": "markdown",
   "id": "70f345bb",
   "metadata": {},
   "source": [
    "Realizamos algunos gráficos para entender los datos con los que estamos trabajando:\n",
    "- Porcentaje de nuestros datos que cumplen con cada atributo / feature.\n",
    "- Cantidad de propiedades según rango de precios por metro cuadrado."
   ]
  },
  {
   "cell_type": "code",
   "execution_count": 15,
   "id": "899010fb",
   "metadata": {},
   "outputs": [],
   "source": [
    "parking_percentage = data.parking.value_counts() / len(data)\n",
    "piscina_percentage = data.piscina.value_counts() / len(data)\n",
    "a_estrenar_percentage = data.a_estrenar.value_counts() / len(data)\n",
    "balcon_percentage = data.balcon.value_counts() / len(data)\n",
    "seguridad_percentage = data.seguridad.value_counts() / len(data)\n",
    "subte_percentage = data.subte.value_counts() / len(data)\n",
    "metrobus_percentage = data.metrobus.value_counts() / len(data)\n",
    "tren_percentage = data.tren.value_counts() / len(data)\n",
    "gimnasio_percentage = data.gimnasio.value_counts() / len(data)\n",
    "parque_percentage = data.parque.value_counts() / len(data)\n",
    "\n",
    "\n",
    "parking_values = [parking_percentage.values.tolist()]\n",
    "piscina_values = [piscina_percentage.values.tolist()]\n",
    "a_estrenar_values = [a_estrenar_percentage.values.tolist()]\n",
    "balcon_values = [balcon_percentage.values.tolist()]\n",
    "seguridad_values = [seguridad_percentage.values.tolist()]\n",
    "subte_values = [subte_percentage.values.tolist()]\n",
    "metrobus_values = [metrobus_percentage.values.tolist()]\n",
    "tren_values = [tren_percentage.values.tolist()]\n",
    "gimnasio_values = [gimnasio_percentage.values.tolist()]\n",
    "parque_values = [parque_percentage.values.tolist()]\n",
    "\n",
    "\n",
    "\n",
    "falsos = [parking_percentage.loc[parking_percentage.index is False], \n",
    "          piscina_percentage.loc[piscina_percentage.index is False], \n",
    "          a_estrenar_percentage.loc[a_estrenar_percentage.index is False],\n",
    "         balcon_percentage.loc[balcon_percentage.index is False],\n",
    "         seguridad_percentage.loc[seguridad_percentage.index is False],\n",
    "         subte_percentage.loc[subte_percentage.index is False],\n",
    "         metrobus_percentage.loc[metrobus_percentage.index is False],\n",
    "         tren_percentage.loc[tren_percentage.index is False],\n",
    "         gimnasio_percentage.loc[gimnasio_percentage.index is False],\n",
    "         parque_percentage.loc[parque_percentage.index is False]]\n",
    "\n",
    "verdaderos = [parking_percentage.loc[parking_percentage.index is not False], \n",
    "          piscina_percentage.loc[piscina_percentage.index is not False], \n",
    "          a_estrenar_percentage.loc[a_estrenar_percentage.index is not False],\n",
    "          balcon_percentage.loc[balcon_percentage.index is not False],\n",
    "          seguridad_percentage.loc[seguridad_percentage.index is not False],\n",
    "          subte_percentage.loc[subte_percentage.index is not False],\n",
    "          metrobus_percentage.loc[metrobus_percentage.index is not False],\n",
    "          tren_percentage.loc[tren_percentage.index is not False],\n",
    "          gimnasio_percentage.loc[gimnasio_percentage.index is not False],\n",
    "          parque_percentage.loc[parque_percentage.index is not False]]\n"
   ]
  },
  {
   "cell_type": "code",
   "execution_count": 16,
   "id": "2b71beb0",
   "metadata": {},
   "outputs": [
    {
     "data": {
      "image/png": "[encoded data removed]",
      "text/plain": [
       "<Figure size 1080x576 with 1 Axes>"
      ]
     },
     "metadata": {
      "needs_background": "light"
     },
     "output_type": "display_data"
    }
   ],
   "source": [
    "# Graficamos\n",
    "\n",
    "labels = ['Parking', 'Piscina', 'Nuevo',\"Balcon\",\"Seguridad\",\"Subte\",\"Metrobus\",\"Tren\", \"Gimnasio\", \"Parque\"]\n",
    "\n",
    "x = np.arange(len(labels))  # the label locations\n",
    "width = 0.35  # the width of the bars\n",
    "\n",
    "fig, ax = plt.subplots(figsize=(15,8))\n",
    "rects1 = ax.bar(x - width/2, np.round(falsos,2), width, label='No tiene', color=\"darkseagreen\",edgecolor=\"black\")\n",
    "rects2 = ax.bar(x + width/2, np.round(verdaderos,2), width, label='Tiene', color=\"cadetblue\", edgecolor=\"black\")\n",
    "\n",
    "ax.set_ylabel('Porcentaje', fontsize=15)\n",
    "ax.set_title('Porcentaje por atributo',fontsize=20)\n",
    "ax.set_xticks(x)\n",
    "y_ticks = [0, 0.2, 0.4, 0.6, 0.8, 1]\n",
    "ax.set_yticks(ticks=y_ticks)\n",
    "ax.set_xticklabels(labels, fontsize=15)\n",
    "ax.legend([\"No tiene\", \"Tiene\"],fontsize=15, bbox_to_anchor=(1.17, 0.5))\n",
    "\n",
    "def autolabel(rects):\n",
    "    for rect in rects:\n",
    "        height = rect.get_height()\n",
    "        ax.annotate('{}'.format(height),\n",
    "                    xy=(rect.get_x() + rect.get_width() / 2, height),\n",
    "                    xytext=(4, 3),  # 3 points vertical offset\n",
    "                    textcoords=\"offset points\",\n",
    "                    ha='center', va='bottom',fontsize=14)\n",
    "\n",
    "autolabel(rects1)\n",
    "autolabel(rects2)"
   ]
  },
  {
   "cell_type": "code",
   "execution_count": 17,
   "id": "71442acd",
   "metadata": {},
   "outputs": [],
   "source": [
    "data['rango_precios'] = np.where(data['price_m2']<1000, 'Hasta 1.000 USD',\n",
    "                   np.where(data['price_m2']<2000, 'Entre 1.000 USD y 2.000 USD',\n",
    "                   np.where(data['price_m2']<3000, 'Entre 2.000 USD y 3.000 USD',\n",
    "                   np.where(data['price_m2']<4000, 'Entre 3.000 USD y 4.000 USD',\n",
    "                   np.where(data['price_m2']<5000, 'Entre 4.000 USD y 5.000 USD',\n",
    "                   np.where(data['price_m2']<6000, 'Entre 5.000 USD y 6.000 uSD', 'Mayor a 6.000 USD'))))))"
   ]
  },
  {
   "cell_type": "code",
   "execution_count": 18,
   "id": "61b06e93",
   "metadata": {},
   "outputs": [
    {
     "data": {
      "text/plain": [
       "['Entre 2.000 USD y 3.000 USD',\n",
       " 'Entre 3.000 USD y 4.000 USD',\n",
       " 'Entre 1.000 USD y 2.000 USD',\n",
       " 'Entre 4.000 USD y 5.000 USD',\n",
       " 'Hasta 1.000 USD',\n",
       " 'Entre 5.000 USD y 6.000 uSD']"
      ]
     },
     "execution_count": 18,
     "metadata": {},
     "output_type": "execute_result"
    }
   ],
   "source": [
    "rango_precios = data.rango_precios.value_counts()\n",
    "rango_precios_keys = (rango_precios.index).tolist()\n",
    "rango_precios_values = (rango_precios.values).tolist()\n",
    "rango_precios = pd.DataFrame(rango_precios)\n",
    "rango_precios[\"rango\"] = rango_precios.index\n",
    "rango_precios_keys"
   ]
  },
  {
   "cell_type": "code",
   "execution_count": 19,
   "id": "de793d4d",
   "metadata": {},
   "outputs": [
    {
     "data": {
      "image/png": "[encoded data removed]",
      "text/plain": [
       "<Figure size 1080x576 with 1 Axes>"
      ]
     },
     "metadata": {
      "needs_background": "light"
     },
     "output_type": "display_data"
    }
   ],
   "source": [
    "fig = plt.figure(figsize = (15, 8))\n",
    "ax = plt.axes()\n",
    "width=0.5\n",
    "labels= rango_precios_values\n",
    "\n",
    "x = np.arange(len(rango_precios_keys))\n",
    "y = (rango_precios_values)\n",
    "\n",
    "ax.set_yticks(x)\n",
    "ax.set_yticklabels(rango_precios_keys,fontsize=15)\n",
    "ax.set_xticks(y)\n",
    "ax.set_xticklabels(y,fontsize=15)\n",
    "ax.set_xlim(0,1)\n",
    "ax.set_title('Distribución de precios por m2', fontsize = 20)\n",
    "\n",
    "x_ticks = [0, 500,1000, 1500, 2000, 2500,3000,3500,4000, 4500]\n",
    "plt.xticks(ticks=x_ticks, labels=x_ticks)\n",
    "bars = ax.barh(x, y, width, data = rango_precios, color='darkseagreen',edgecolor=\"black\", linewidth=1)\n",
    "ax.invert_yaxis()\n",
    "\n",
    "for i, v in enumerate(y):\n",
    "    ax.text(v+50, i +.1, str(v), fontsize=14)\n",
    "plt.show()"
   ]
  },
  {
   "cell_type": "markdown",
   "id": "c3a3a241",
   "metadata": {},
   "source": [
    "### Generación de dummies"
   ]
  },
  {
   "cell_type": "markdown",
   "id": "c7d00727",
   "metadata": {},
   "source": [
    "Generamos las dummies necesarias para trabajar con los datos."
   ]
  },
  {
   "cell_type": "code",
   "execution_count": 20,
   "id": "c1bc1139",
   "metadata": {},
   "outputs": [
    {
     "data": {
      "text/plain": [
       "Index(['Unnamed: 0', 'Unnamed: 0.1', 'surface_covered_in_m2', 'price_m2',\n",
       "       'surface_total_in_m2', 'rooms', 'description', 'surface_uncovered',\n",
       "       'rango_precios', 'piscina_False', 'piscina_True', 'balcon_False',\n",
       "       'balcon_True', 'a_estrenar_False', 'a_estrenar_True', 'parking_False',\n",
       "       'parking_True', 'property_type_apartment', 'property_type_house',\n",
       "       'seguridad_False', 'seguridad_True', 'subte_False', 'subte_True',\n",
       "       'metrobus_False', 'metrobus_True', 'tren_False', 'tren_True',\n",
       "       'place_name_house_Acassuso apartment',\n",
       "       'place_name_house_Acassuso house', 'place_name_house_Almagro apartment',\n",
       "       'place_name_house_Almagro house', 'place_name_house_Belgrano apartment',\n",
       "       'place_name_house_Belgrano house',\n",
       "       'place_name_house_Caballito apartment',\n",
       "       'place_name_house_Caballito house',\n",
       "       'place_name_house_Florida apartment', 'place_name_house_Florida house',\n",
       "       'place_name_house_La Lucila apartment',\n",
       "       'place_name_house_La Lucila house',\n",
       "       'place_name_house_Martínez apartment',\n",
       "       'place_name_house_Martínez house', 'place_name_house_Nuñez apartment',\n",
       "       'place_name_house_Nuñez house', 'place_name_house_Olivos apartment',\n",
       "       'place_name_house_Olivos house', 'place_name_house_Palermo apartment',\n",
       "       'place_name_house_Palermo house', 'place_name_house_Saavedra apartment',\n",
       "       'place_name_house_Saavedra house',\n",
       "       'place_name_house_San Isidro apartment',\n",
       "       'place_name_house_San Isidro house',\n",
       "       'place_name_house_Vicente López apartment',\n",
       "       'place_name_house_Vicente López house',\n",
       "       'place_name_house_Villa Crespo apartment',\n",
       "       'place_name_house_Villa Crespo house', 'place_name_Acassuso',\n",
       "       'place_name_Almagro', 'place_name_Belgrano', 'place_name_Caballito',\n",
       "       'place_name_Florida', 'place_name_La Lucila', 'place_name_Martínez',\n",
       "       'place_name_Nuñez', 'place_name_Olivos', 'place_name_Palermo',\n",
       "       'place_name_Saavedra', 'place_name_San Isidro',\n",
       "       'place_name_Vicente López', 'place_name_Villa Crespo', 'gimnasio_False',\n",
       "       'gimnasio_True', 'parque_False', 'parque_True'],\n",
       "      dtype='object')"
      ]
     },
     "execution_count": 20,
     "metadata": {},
     "output_type": "execute_result"
    }
   ],
   "source": [
    "data_dummies = pd.get_dummies(data, columns = ['piscina',\"balcon\",\"a_estrenar\",\"parking\",\"property_type\",\"seguridad\",\"subte\",\"metrobus\",\"tren\",\"place_name_house\", \"place_name\",\"gimnasio\",\"parque\"])\n",
    "data_dummies.columns"
   ]
  },
  {
   "cell_type": "markdown",
   "id": "4f5a6052",
   "metadata": {},
   "source": [
    "Luego, extramos las columnas que necesitamos para el input del modelo. "
   ]
  },
  {
   "cell_type": "code",
   "execution_count": 21,
   "id": "a05a83a1",
   "metadata": {},
   "outputs": [],
   "source": [
    "# Extraigo las columnas que necesitamos\n",
    "\n",
    "data_casi_final = data_dummies[['surface_covered_in_m2', 'price_m2',\n",
    "       'surface_total_in_m2', 'rooms', 'description', 'surface_uncovered',\n",
    "       'rango_precios', 'piscina_False', 'piscina_True', 'balcon_False',\n",
    "       'balcon_True', 'a_estrenar_False', 'a_estrenar_True', 'parking_False',\n",
    "       'parking_True', 'property_type_apartment', 'property_type_house',\n",
    "       'seguridad_False', 'seguridad_True', 'subte_False', 'subte_True',\n",
    "       'metrobus_False', 'metrobus_True', 'tren_False', 'tren_True',\"gimnasio_True\",\"parque_True\",\n",
    "       'place_name_house_Acassuso apartment',\n",
    "       'place_name_house_Acassuso house', 'place_name_house_Almagro apartment',\n",
    "       'place_name_house_Almagro house', 'place_name_house_Belgrano apartment',\n",
    "       'place_name_house_Belgrano house',\n",
    "       'place_name_house_Caballito apartment',\n",
    "       'place_name_house_Caballito house',\n",
    "       'place_name_house_Florida apartment', 'place_name_house_Florida house',\n",
    "       'place_name_house_La Lucila apartment',\n",
    "       'place_name_house_La Lucila house',\n",
    "       'place_name_house_Martínez apartment',\n",
    "       'place_name_house_Martínez house', 'place_name_house_Nuñez apartment',\n",
    "       'place_name_house_Nuñez house', 'place_name_house_Olivos apartment',\n",
    "       'place_name_house_Olivos house', 'place_name_house_Palermo apartment',\n",
    "       'place_name_house_Palermo house', 'place_name_house_Saavedra apartment',\n",
    "       'place_name_house_Saavedra house',\n",
    "       'place_name_house_San Isidro apartment',\n",
    "       'place_name_house_San Isidro house',\n",
    "       'place_name_house_Vicente López apartment',\n",
    "       'place_name_house_Vicente López house',\n",
    "       'place_name_house_Villa Crespo apartment',\n",
    "       'place_name_house_Villa Crespo house', 'place_name_Acassuso',\n",
    "       'place_name_Almagro', 'place_name_Belgrano', 'place_name_Caballito',\n",
    "       'place_name_Florida', 'place_name_La Lucila', 'place_name_Martínez',\n",
    "       'place_name_Nuñez', 'place_name_Olivos', 'place_name_Palermo',\n",
    "       'place_name_Saavedra', 'place_name_San Isidro',\n",
    "       'place_name_Vicente López', 'place_name_Villa Crespo']]"
   ]
  },
  {
   "cell_type": "markdown",
   "id": "85d3aada",
   "metadata": {},
   "source": [
    "Ahora, normalizamos las variables numéricas, utilizando el método Min Max:\n",
    "- _rooms_.\n",
    "- _surface_covered_in_m2_.\n",
    "- _surface_uncovered_."
   ]
  },
  {
   "cell_type": "code",
   "execution_count": 22,
   "id": "49718724",
   "metadata": {},
   "outputs": [],
   "source": [
    "from sklearn import preprocessing\n",
    "\n",
    "numericals = [\"rooms\", \"surface_covered_in_m2\",\"surface_uncovered\"]\n",
    "X = data[numericals]\n",
    "\n",
    "scaler = preprocessing.MinMaxScaler()\n",
    "scaler.fit(X)\n",
    "\n",
    "nm_numerical_data = scaler.transform(X)\n",
    "std_df = pd.DataFrame(nm_numerical_data)\n",
    "std_df.columns = [i + \"_nm\" for i in numericals]"
   ]
  },
  {
   "cell_type": "markdown",
   "id": "5c3abeb2",
   "metadata": {},
   "source": [
    "Luego, concatenamos las variables y obtenemos el input final del modelo."
   ]
  },
  {
   "cell_type": "code",
   "execution_count": 23,
   "id": "8c232a81",
   "metadata": {},
   "outputs": [
    {
     "data": {
      "text/html": [
       "<div>\n",
       "<style scoped>\n",
       "    .dataframe tbody tr th:only-of-type {\n",
       "        vertical-align: middle;\n",
       "    }\n",
       "\n",
       "    .dataframe tbody tr th {\n",
       "        vertical-align: top;\n",
       "    }\n",
       "\n",
       "    .dataframe thead th {\n",
       "        text-align: right;\n",
       "    }\n",
       "</style>\n",
       "<table border=\"1\" class=\"dataframe\">\n",
       "  <thead>\n",
       "    <tr style=\"text-align: right;\">\n",
       "      <th></th>\n",
       "      <th>surface_covered_in_m2</th>\n",
       "      <th>price_m2</th>\n",
       "      <th>surface_total_in_m2</th>\n",
       "      <th>rooms</th>\n",
       "      <th>description</th>\n",
       "      <th>surface_uncovered</th>\n",
       "      <th>rango_precios</th>\n",
       "      <th>piscina_False</th>\n",
       "      <th>piscina_True</th>\n",
       "      <th>balcon_False</th>\n",
       "      <th>...</th>\n",
       "      <th>place_name_Nuñez</th>\n",
       "      <th>place_name_Olivos</th>\n",
       "      <th>place_name_Palermo</th>\n",
       "      <th>place_name_Saavedra</th>\n",
       "      <th>place_name_San Isidro</th>\n",
       "      <th>place_name_Vicente López</th>\n",
       "      <th>place_name_Villa Crespo</th>\n",
       "      <th>rooms_nm</th>\n",
       "      <th>surface_covered_in_m2_nm</th>\n",
       "      <th>surface_uncovered_nm</th>\n",
       "    </tr>\n",
       "  </thead>\n",
       "  <tbody>\n",
       "    <tr>\n",
       "      <th>0</th>\n",
       "      <td>36.0</td>\n",
       "      <td>2948.717949</td>\n",
       "      <td>39.0</td>\n",
       "      <td>2.0</td>\n",
       "      <td>EXCELENTE DEPARTAMENTO 2 AMBIENTES CONTRAFRENT...</td>\n",
       "      <td>3.0</td>\n",
       "      <td>Entre 2.000 USD y 3.000 USD</td>\n",
       "      <td>1</td>\n",
       "      <td>0</td>\n",
       "      <td>1</td>\n",
       "      <td>...</td>\n",
       "      <td>0</td>\n",
       "      <td>0</td>\n",
       "      <td>0</td>\n",
       "      <td>0</td>\n",
       "      <td>0</td>\n",
       "      <td>0</td>\n",
       "      <td>0</td>\n",
       "      <td>0.001297</td>\n",
       "      <td>0.008451</td>\n",
       "      <td>0.706355</td>\n",
       "    </tr>\n",
       "  </tbody>\n",
       "</table>\n",
       "<p>1 rows × 72 columns</p>\n",
       "</div>"
      ],
      "text/plain": [
       "   surface_covered_in_m2     price_m2  surface_total_in_m2  rooms  \\\n",
       "0                   36.0  2948.717949                 39.0    2.0   \n",
       "\n",
       "                                         description  surface_uncovered  \\\n",
       "0  EXCELENTE DEPARTAMENTO 2 AMBIENTES CONTRAFRENT...                3.0   \n",
       "\n",
       "                 rango_precios  piscina_False  piscina_True  balcon_False  \\\n",
       "0  Entre 2.000 USD y 3.000 USD              1             0             1   \n",
       "\n",
       "   ...  place_name_Nuñez  place_name_Olivos  place_name_Palermo  \\\n",
       "0  ...                 0                  0                   0   \n",
       "\n",
       "   place_name_Saavedra  place_name_San Isidro  place_name_Vicente López  \\\n",
       "0                    0                      0                         0   \n",
       "\n",
       "   place_name_Villa Crespo  rooms_nm  surface_covered_in_m2_nm  \\\n",
       "0                        0  0.001297                  0.008451   \n",
       "\n",
       "   surface_uncovered_nm  \n",
       "0              0.706355  \n",
       "\n",
       "[1 rows x 72 columns]"
      ]
     },
     "execution_count": 23,
     "metadata": {},
     "output_type": "execute_result"
    }
   ],
   "source": [
    "# Concatenamos todo y generamos el dataset final\n",
    "\n",
    "data_final = pd.concat([data_casi_final.reset_index(drop=True), std_df.reset_index(drop=True)],axis=1)\n",
    "data_final.head(1)"
   ]
  },
  {
   "cell_type": "code",
   "execution_count": 24,
   "id": "08808682",
   "metadata": {},
   "outputs": [
    {
     "data": {
      "text/plain": [
       "Index(['surface_covered_in_m2', 'price_m2', 'surface_total_in_m2', 'rooms',\n",
       "       'description', 'surface_uncovered', 'rango_precios', 'piscina_False',\n",
       "       'piscina_True', 'balcon_False', 'balcon_True', 'a_estrenar_False',\n",
       "       'a_estrenar_True', 'parking_False', 'parking_True',\n",
       "       'property_type_apartment', 'property_type_house', 'seguridad_False',\n",
       "       'seguridad_True', 'subte_False', 'subte_True', 'metrobus_False',\n",
       "       'metrobus_True', 'tren_False', 'tren_True', 'gimnasio_True',\n",
       "       'parque_True', 'place_name_house_Acassuso apartment',\n",
       "       'place_name_house_Acassuso house', 'place_name_house_Almagro apartment',\n",
       "       'place_name_house_Almagro house', 'place_name_house_Belgrano apartment',\n",
       "       'place_name_house_Belgrano house',\n",
       "       'place_name_house_Caballito apartment',\n",
       "       'place_name_house_Caballito house',\n",
       "       'place_name_house_Florida apartment', 'place_name_house_Florida house',\n",
       "       'place_name_house_La Lucila apartment',\n",
       "       'place_name_house_La Lucila house',\n",
       "       'place_name_house_Martínez apartment',\n",
       "       'place_name_house_Martínez house', 'place_name_house_Nuñez apartment',\n",
       "       'place_name_house_Nuñez house', 'place_name_house_Olivos apartment',\n",
       "       'place_name_house_Olivos house', 'place_name_house_Palermo apartment',\n",
       "       'place_name_house_Palermo house', 'place_name_house_Saavedra apartment',\n",
       "       'place_name_house_Saavedra house',\n",
       "       'place_name_house_San Isidro apartment',\n",
       "       'place_name_house_San Isidro house',\n",
       "       'place_name_house_Vicente López apartment',\n",
       "       'place_name_house_Vicente López house',\n",
       "       'place_name_house_Villa Crespo apartment',\n",
       "       'place_name_house_Villa Crespo house', 'place_name_Acassuso',\n",
       "       'place_name_Almagro', 'place_name_Belgrano', 'place_name_Caballito',\n",
       "       'place_name_Florida', 'place_name_La Lucila', 'place_name_Martínez',\n",
       "       'place_name_Nuñez', 'place_name_Olivos', 'place_name_Palermo',\n",
       "       'place_name_Saavedra', 'place_name_San Isidro',\n",
       "       'place_name_Vicente López', 'place_name_Villa Crespo', 'rooms_nm',\n",
       "       'surface_covered_in_m2_nm', 'surface_uncovered_nm'],\n",
       "      dtype='object')"
      ]
     },
     "execution_count": 24,
     "metadata": {},
     "output_type": "execute_result"
    }
   ],
   "source": [
    "data_final.columns"
   ]
  },
  {
   "cell_type": "markdown",
   "id": "98b79b83",
   "metadata": {},
   "source": [
    "Ahora, corroboramos que no estamos trabajando con nulos y revisamos la shape final: 7458 observaciones"
   ]
  },
  {
   "cell_type": "code",
   "execution_count": 25,
   "id": "6fb26a08",
   "metadata": {},
   "outputs": [
    {
     "name": "stdout",
     "output_type": "stream",
     "text": [
      "surface_covered_in_m2       0\n",
      "price_m2                    0\n",
      "surface_total_in_m2         0\n",
      "rooms                       0\n",
      "description                 0\n",
      "                           ..\n",
      "place_name_Vicente López    0\n",
      "place_name_Villa Crespo     0\n",
      "rooms_nm                    0\n",
      "surface_covered_in_m2_nm    0\n",
      "surface_uncovered_nm        0\n",
      "Length: 72, dtype: int64\n",
      "(7458, 72)\n"
     ]
    }
   ],
   "source": [
    "print(data_final.isnull().sum())\n",
    "print(data_final.shape)"
   ]
  },
  {
   "cell_type": "code",
   "execution_count": 26,
   "id": "6b745d58",
   "metadata": {},
   "outputs": [],
   "source": [
    "# data_final.to_csv('data_final.csv')"
   ]
  },
  {
   "cell_type": "markdown",
   "id": "85850dca",
   "metadata": {},
   "source": [
    "### Modelamos una regresión sin regularizar"
   ]
  },
  {
   "cell_type": "markdown",
   "id": "6444fa5e",
   "metadata": {},
   "source": [
    "Comenzamos con una regresión Lineal Múltiple sin regularizar <br> Asignamos en el objeto _X_ las variables explicativas, y en el objeto _y_ la variable a predecir, precio por metro cuadrado. <br> Luego definimos los datos de entrenamiento (75%) y de testeo (25%)."
   ]
  },
  {
   "cell_type": "code",
   "execution_count": 27,
   "id": "3be93788",
   "metadata": {},
   "outputs": [],
   "source": [
    "X = data_final[['piscina_True', 'balcon_True', \n",
    "       'a_estrenar_True', 'parking_True',\n",
    "       'property_type_house',\n",
    "       'seguridad_True', 'subte_True',\n",
    "       'metrobus_True', 'tren_True', \"gimnasio_True\",\"parque_True\",\n",
    "       'place_name_Almagro', 'place_name_Belgrano', 'place_name_Caballito',\n",
    "       'place_name_Florida', 'place_name_La Lucila', 'place_name_Martínez',\n",
    "       'place_name_Nuñez', 'place_name_Olivos', 'place_name_Palermo',\n",
    "       'place_name_Saavedra', 'place_name_San Isidro',\n",
    "       'place_name_Vicente López', 'place_name_Villa Crespo', 'rooms_nm',\n",
    "       'surface_uncovered_nm',\n",
    "       'place_name_house_Acassuso house',\n",
    "       'place_name_house_Almagro house', \n",
    "       'place_name_house_Belgrano house',\n",
    "       'place_name_house_Caballito house',\n",
    "       'place_name_house_Florida house',\n",
    "       'place_name_house_La Lucila house',\n",
    "       'place_name_house_Martínez house', \n",
    "       'place_name_house_Nuñez house',\n",
    "       'place_name_house_Olivos house',\n",
    "       'place_name_house_Palermo house',\n",
    "       'place_name_house_Saavedra house',\n",
    "       'place_name_house_San Isidro house',\n",
    "       'place_name_house_Vicente López house',\n",
    "     'place_name_house_Villa Crespo house']]   \n",
    "    \n",
    "y = data_final.price_m2\n",
    "\n",
    "X_train, X_test, y_train, y_test = train_test_split(X, y, test_size=0.25, random_state=111)"
   ]
  },
  {
   "cell_type": "markdown",
   "id": "a9de3199",
   "metadata": {},
   "source": [
    "Ahora, entrenamos el modelo ajustándolo con los datos de entrenamiento, y obtenemos un print de los resultados.<br>\n",
    "Como vemos, el R2 es de 0.349, un resultado bastante bajo. <br>\n",
    "Además, las variables _balcon_True_, _subte_True_, _parque_True, _place_name_Almagro, _place_name_Belgrano_, _place_name_Caballito_, _place_name_Florida_, y algunas más (en general, asociadas a las dummies de los barrios), tienen un p-value muy grande, de forma tal que no podemos rechazar que los Betas no sean 0. <br>\n",
    "En otras palabras, podríamos suponer que el modelo está sobreajustado y estas variables son prescindibles."
   ]
  },
  {
   "cell_type": "code",
   "execution_count": 28,
   "id": "dd08bb23",
   "metadata": {},
   "outputs": [
    {
     "name": "stdout",
     "output_type": "stream",
     "text": [
      "                            OLS Regression Results                            \n",
      "==============================================================================\n",
      "Dep. Variable:               price_m2   R-squared:                       0.349\n",
      "Model:                            OLS   Adj. R-squared:                  0.344\n",
      "Method:                 Least Squares   F-statistic:                     76.25\n",
      "Date:                Thu, 14 Jul 2022   Prob (F-statistic):               0.00\n",
      "Time:                        09:38:57   Log-Likelihood:                -43846.\n",
      "No. Observations:                5593   AIC:                         8.777e+04\n",
      "Df Residuals:                    5553   BIC:                         8.804e+04\n",
      "Df Model:                          39                                         \n",
      "Covariance Type:            nonrobust                                         \n",
      "========================================================================================================\n",
      "                                           coef    std err          t      P>|t|      [0.025      0.975]\n",
      "--------------------------------------------------------------------------------------------------------\n",
      "const                                 1.176e+04    689.391     17.054      0.000    1.04e+04    1.31e+04\n",
      "piscina_True                           327.7693     28.595     11.463      0.000     271.712     383.826\n",
      "balcon_True                             -6.9509     17.833     -0.390      0.697     -41.911      28.009\n",
      "a_estrenar_True                        -22.2794     30.320     -0.735      0.462     -81.719      37.160\n",
      "parking_True                           149.2884     29.168      5.118      0.000      92.108     206.469\n",
      "property_type_house                   -875.8876     54.334    -16.120      0.000    -982.404    -769.372\n",
      "seguridad_True                          81.4771     37.619      2.166      0.030       7.730     155.225\n",
      "subte_True                             -58.2524     31.270     -1.863      0.063    -119.553       3.048\n",
      "metrobus_True                         -234.9357     80.568     -2.916      0.004    -392.881     -76.990\n",
      "tren_True                              104.9712     28.443      3.691      0.000      49.212     160.731\n",
      "gimnasio_True                          109.9602     39.974      2.751      0.006      31.596     188.324\n",
      "parque_True                             15.5357     51.092      0.304      0.761     -84.625     115.697\n",
      "place_name_Almagro                    -430.2069    157.097     -2.738      0.006    -738.179    -122.235\n",
      "place_name_Belgrano                    346.4055    155.600      2.226      0.026      41.368     651.443\n",
      "place_name_Caballito                  -196.1178    155.599     -1.260      0.208    -501.154     108.918\n",
      "place_name_Florida                    -225.3379    171.652     -1.313      0.189    -561.843     111.167\n",
      "place_name_La Lucila                   717.9491    169.922      4.225      0.000     384.835    1051.063\n",
      "place_name_Martínez                    546.2751    160.973      3.394      0.001     230.705     861.846\n",
      "place_name_Nuñez                       192.8458    159.716      1.207      0.227    -120.260     505.952\n",
      "place_name_Olivos                      326.9413    157.769      2.072      0.038      17.653     636.230\n",
      "place_name_Palermo                     390.0715    155.789      2.504      0.012      84.664     695.479\n",
      "place_name_Saavedra                   -297.9948    161.279     -1.848      0.065    -614.165      18.175\n",
      "place_name_San Isidro                  -57.2003    160.880     -0.356      0.722    -372.589     258.188\n",
      "place_name_Vicente López               426.7189    160.967      2.651      0.008     111.161     742.277\n",
      "place_name_Villa Crespo                -90.2078    156.709     -0.576      0.565    -397.419     217.003\n",
      "rooms_nm                               686.1196    614.752      1.116      0.264    -519.034    1891.273\n",
      "surface_uncovered_nm                  -1.29e+04    949.707    -13.582      0.000   -1.48e+04    -1.1e+04\n",
      "place_name_house_Acassuso house       -749.7999    435.021     -1.724      0.085   -1602.611     103.011\n",
      "place_name_house_Almagro house         399.5032    176.136      2.268      0.023      54.207     744.799\n",
      "place_name_house_Belgrano house        284.4392    146.586      1.940      0.052      -2.928     571.806\n",
      "place_name_house_Caballito house       203.5333    154.293      1.319      0.187     -98.941     506.007\n",
      "place_name_house_Florida house          40.9317    114.060      0.359      0.720    -182.671     264.534\n",
      "place_name_house_La Lucila house      -320.0920    271.158     -1.180      0.238    -851.667     211.483\n",
      "place_name_house_Martínez house       -552.3432    111.925     -4.935      0.000    -771.760    -332.926\n",
      "place_name_house_Nuñez house           192.7047    226.797      0.850      0.396    -251.906     637.315\n",
      "place_name_house_Olivos house         -419.1003     84.946     -4.934      0.000    -585.627    -252.573\n",
      "place_name_house_Palermo house         189.1796    182.385      1.037      0.300    -168.366     546.725\n",
      "place_name_house_Saavedra house        163.8418    186.293      0.879      0.379    -201.365     529.049\n",
      "place_name_house_San Isidro house       72.3175    142.600      0.507      0.612    -207.234     351.869\n",
      "place_name_house_Vicente López house  -312.8645    129.827     -2.410      0.016    -567.377     -58.352\n",
      "place_name_house_Villa Crespo house    -68.1386    241.650     -0.282      0.778    -541.867     405.590\n",
      "==============================================================================\n",
      "Omnibus:                      338.046   Durbin-Watson:                   2.058\n",
      "Prob(Omnibus):                  0.000   Jarque-Bera (JB):              561.487\n",
      "Skew:                           0.480   Prob(JB):                    1.19e-122\n",
      "Kurtosis:                       4.219   Cond. No.                     1.37e+16\n",
      "==============================================================================\n",
      "\n",
      "Notes:\n",
      "[1] Standard Errors assume that the covariance matrix of the errors is correctly specified.\n",
      "[2] The smallest eigenvalue is 5.58e-29. This might indicate that there are\n",
      "strong multicollinearity problems or that the design matrix is singular.\n"
     ]
    }
   ],
   "source": [
    "import statsmodels.api as sm\n",
    "\n",
    "# Con la librería statsmodels, tenemos que agregar explícitamente a una constante:\n",
    "\n",
    "X_train_sm = sm.add_constant(X_train)\n",
    "\n",
    "# Entrenamos el modelo\n",
    "\n",
    "model_1_RL = sm.OLS(y_train, X_train_sm).fit()\n",
    "\n",
    "# Vemos el resultado del modelo entrenado\n",
    "\n",
    "print(model_1_RL.summary())"
   ]
  },
  {
   "cell_type": "markdown",
   "id": "6efd1f9d",
   "metadata": {},
   "source": [
    "Ahora vamos a calcular las métricas de errores para los sets de entrenamiento y sets de testeo, analizando las diferencias entre la variable real y la que se predijo, para cada uno de los puntos del dataset. Esto es, analizamos los **errores residuales** <br>\n",
    "Como ya vimos, el R2 con datos de entrenamiento es 0.349, mientras que para los datos de testeo eso baja a 0.307 <br>\n",
    "Lo mismo ocurre con el error cuadrático medio (MSE), que varía de 614.29 a 621.05.  <br>\n",
    "Por su parte, el error absoluto medio (MAE) muestra una caída con los datos de testeo, hecho que podríamo atribuirle a la casualidad del split que hizo el programa, ya que es de esperar que el error suba en los datos de testeo."
   ]
  },
  {
   "cell_type": "code",
   "execution_count": 29,
   "id": "f8590fc4",
   "metadata": {},
   "outputs": [
    {
     "name": "stdout",
     "output_type": "stream",
     "text": [
      "R2 con datos de entrenamiento:  0.349\n",
      "R2 con datos de testeo:  0.307\n",
      "RMSE con datos de entrenamiento:  614.29\n",
      "RMSE con datos de testeo:  621.05\n",
      "MAE con datos de entrenamiento:  465.06\n",
      "MAE con datos de testeo:  451.5\n"
     ]
    }
   ],
   "source": [
    "lr = LinearRegression()\n",
    "lr.fit(X_train, y_train)\n",
    "\n",
    "pred_train_lr= lr.predict(X_train)\n",
    "pred_test_lr= lr.predict(X_test)\n",
    "\n",
    "print(\"R2 con datos de entrenamiento: \", round(r2_score(y_train, pred_train_lr),3))\n",
    "print(\"R2 con datos de testeo: \", round(r2_score(y_test, pred_test_lr),3))\n",
    "\n",
    "print(\"RMSE con datos de entrenamiento: \", round(np.sqrt(mean_squared_error(y_train, pred_train_lr)),2))\n",
    "print(\"RMSE con datos de testeo: \", round(np.sqrt(mean_squared_error(y_test, pred_test_lr)),2)) \n",
    "\n",
    "print(\"MAE con datos de entrenamiento: \", round(eval_measures.meanabs(y_train, pred_train_lr),2))\n",
    "print(\"MAE con datos de testeo: \", round(eval_measures.meanabs(y_test, pred_test_lr),2))"
   ]
  },
  {
   "cell_type": "code",
   "execution_count": 30,
   "id": "0e6284f8",
   "metadata": {},
   "outputs": [],
   "source": [
    "R2_train = round(r2_score(y_train, pred_train_lr),3)\n",
    "R2_test = round(r2_score(y_test, pred_test_lr),3)\n",
    "\n",
    "RMSE_train = round(np.sqrt(mean_squared_error(y_train, pred_train_lr)),2)\n",
    "RMSE_test = round(np.sqrt(mean_squared_error(y_test,pred_test_lr)),2)\n",
    "\n",
    "MSE_train = round(mean_squared_error(y_train, pred_train_lr),2)\n",
    "MSE_test = round(mean_squared_error(y_test,pred_test_lr), 2)\n",
    "\n",
    "MAE_train = round(eval_measures.meanabs(y_train, pred_train_lr),2)\n",
    "MAE_test = round(eval_measures.meanabs(y_test, pred_test_lr),2)\n",
    "\n"
   ]
  },
  {
   "cell_type": "code",
   "execution_count": 31,
   "id": "1c8731be",
   "metadata": {},
   "outputs": [
    {
     "data": {
      "image/png": "[encoded data removed]",
      "text/plain": [
       "<Figure size 432x216 with 1 Axes>"
      ]
     },
     "metadata": {
      "needs_background": "light"
     },
     "output_type": "display_data"
    }
   ],
   "source": [
    "ols_r2_labels = ['R2 train', 'R2 test']\n",
    "ols_r2_values = [R2_train, R2_test]\n",
    "\n",
    "fig = plt.figure(figsize = (6, 3))\n",
    "ax = plt.axes()\n",
    "width=0.4\n",
    "labels= ols_r2_labels\n",
    "\n",
    "x = np.arange(len(ols_r2_labels))\n",
    "y = (ols_r2_values)\n",
    "\n",
    "ax.set_yticks(x)\n",
    "ax.set_yticklabels(ols_r2_labels,fontsize=15)\n",
    "ax.set_title('Ordinary Least Squares R2', fontsize = 20)\n",
    "\n",
    "ax.set_xticks(y)\n",
    "ax.set_xticklabels(ols_r2_values,fontsize=15)\n",
    "ax.set_xlim(0, 0.45)\n",
    "\n",
    "x_ticks = [0, 0.1, 0.2, 0.3, 0.4]\n",
    "plt.xticks(ticks = x_ticks, labels = x_ticks)\n",
    "\n",
    "bars = ax.barh(x, y, width, data = ols_r2_values, color='darkseagreen',edgecolor=\"black\", linewidth=1)\n",
    "ax.invert_yaxis()\n",
    "\n",
    "for i, v in enumerate(y):\n",
    "    ax.text(v+.01, i +.1, str(v), fontsize=20)\n",
    "plt.show()\n"
   ]
  },
  {
   "cell_type": "code",
   "execution_count": 32,
   "id": "9eba4573",
   "metadata": {},
   "outputs": [
    {
     "data": {
      "image/png": "[encoded data removed]",
      "text/plain": [
       "<Figure size 432x216 with 1 Axes>"
      ]
     },
     "metadata": {
      "needs_background": "light"
     },
     "output_type": "display_data"
    }
   ],
   "source": [
    "ols_rmse_labels = ['RMSE train', 'RMSE test']\n",
    "ols_rmse_values = [RMSE_train, RMSE_test]\n",
    "\n",
    "fig = plt.figure(figsize = (6, 3))\n",
    "ax = plt.axes()\n",
    "width=0.4\n",
    "labels= ols_rmse_labels\n",
    "\n",
    "x = np.arange(len(ols_rmse_labels))\n",
    "y = (ols_rmse_values)\n",
    "\n",
    "ax.set_yticks(x)\n",
    "ax.set_yticklabels(ols_rmse_labels,fontsize=15)\n",
    "ax.set_title('Ordinary Least Squares RMSE', fontsize = 20)\n",
    "\n",
    "ax.set_xticks(y)\n",
    "ax.set_xticklabels(ols_rmse_values,fontsize=15)\n",
    "ax.set_xlim(0, 830)\n",
    "\n",
    "x_ticks = [0, 100, 200, 300, 400, 500, 600]\n",
    "plt.xticks(ticks = x_ticks, labels = x_ticks)\n",
    "\n",
    "bars = ax.barh(x, y, width, data = ols_rmse_values, color='darkseagreen',edgecolor=\"black\", linewidth=1)\n",
    "ax.invert_yaxis()\n",
    "\n",
    "for i, v in enumerate(y):\n",
    "    ax.text(v+25, i+.05, str(v), fontsize=20)\n",
    "plt.show()"
   ]
  },
  {
   "cell_type": "code",
   "execution_count": 33,
   "id": "382fe3d6",
   "metadata": {},
   "outputs": [
    {
     "data": {
      "image/png": "[encoded data removed]",
      "text/plain": [
       "<Figure size 432x216 with 1 Axes>"
      ]
     },
     "metadata": {
      "needs_background": "light"
     },
     "output_type": "display_data"
    }
   ],
   "source": [
    "ols_mse_labels = ['MSE train', 'MSE test']\n",
    "ols_mse_values = [MSE_train, MSE_test]\n",
    "\n",
    "fig = plt.figure(figsize = (6, 3))\n",
    "ax = plt.axes()\n",
    "width=0.4\n",
    "labels= ols_mse_labels\n",
    "\n",
    "x = np.arange(len(ols_mse_labels))\n",
    "y = (ols_mse_values)\n",
    "\n",
    "ax.set_yticks(x)\n",
    "ax.set_yticklabels(ols_mse_labels,fontsize=15)\n",
    "ax.set_title('Ordinary Least Squares MSE', fontsize = 20)\n",
    "\n",
    "ax.set_xticks(y)\n",
    "ax.set_xticklabels(ols_mse_values,fontsize=15)\n",
    "ax.set_xlim(0, 850000)\n",
    "\n",
    "x_ticks = [0, 400000, 800000]\n",
    "plt.xticks(ticks = x_ticks, labels = x_ticks)\n",
    "\n",
    "bars = ax.barh(x, y, width, data = ols_mse_values, color='darkseagreen',edgecolor=\"black\", linewidth=1)\n",
    "ax.invert_yaxis()\n",
    "\n",
    "for i, v in enumerate(y):\n",
    "    ax.text(v+140000, i+.1, str(v), fontsize=20)\n",
    "plt.show()"
   ]
  },
  {
   "cell_type": "code",
   "execution_count": 34,
   "id": "3620bea2",
   "metadata": {},
   "outputs": [
    {
     "data": {
      "image/png": "[encoded data removed]",
      "text/plain": [
       "<Figure size 432x216 with 1 Axes>"
      ]
     },
     "metadata": {
      "needs_background": "light"
     },
     "output_type": "display_data"
    }
   ],
   "source": [
    "ols_mae_labels = ['MAE train', 'MAE test']\n",
    "ols_mae_values = [MAE_train, MAE_test]\n",
    "\n",
    "fig = plt.figure(figsize = (6, 3))\n",
    "ax = plt.axes()\n",
    "width=0.4\n",
    "labels= ols_mae_labels\n",
    "\n",
    "x = np.arange(len(ols_mae_labels))\n",
    "y = (ols_mae_values)\n",
    "\n",
    "ax.set_yticks(x)\n",
    "ax.set_yticklabels(ols_mae_labels,fontsize=15)\n",
    "ax.set_title('Ordinary Least Squares MAE', fontsize = 20)\n",
    "\n",
    "ax.set_xticks(y)\n",
    "ax.set_xticklabels(ols_mae_values,fontsize=15)\n",
    "ax.set_xlim(0, 650)\n",
    "\n",
    "x_ticks = [0, 100, 200, 300, 400, 500]\n",
    "plt.xticks(ticks = x_ticks, labels = x_ticks)\n",
    "\n",
    "bars = ax.barh(x, y, width, data = ols_mae_values, color='darkseagreen',edgecolor=\"black\", linewidth=1)\n",
    "ax.invert_yaxis()\n",
    "\n",
    "for i, v in enumerate(y):\n",
    "    ax.text(v+25, i+.05, str(v), fontsize=20)\n",
    "plt.show()"
   ]
  },
  {
   "cell_type": "markdown",
   "id": "c6f780ae",
   "metadata": {},
   "source": [
    "### Regresión Lasso"
   ]
  },
  {
   "cell_type": "markdown",
   "id": "c3ec52a1",
   "metadata": {},
   "source": [
    "Vamos a correr una regresión Lasso para ver si el modelo mejora, tanto en sus métricas como en la cantidad de variables explicativas. <br>\n",
    "Para esto, utilizaremos la técnica de Cross Validation para encontrar el mejor alpha para el conjunto de datos. \n",
    "- Dividimos el conjunto de datos en 5 folds, es decir, hacemos 5 entrenamientos, y se utilizan todos los valores de alpha que le indicamos manualmente.\n",
    "- De los cinco entrenamientos que hace, el modelo saca un promedio del error cuadrático medio, y decide cuál es el mejor alpha para regularizar.\n",
    "- Luego vamos a entrenar el modelo con ese alpha, que no es sino el valor del parámetro que minimiza el error cuadrático medio. "
   ]
  },
  {
   "cell_type": "code",
   "execution_count": 35,
   "id": "741444cb",
   "metadata": {},
   "outputs": [],
   "source": [
    "# Lasso\n",
    "X = data_final[['piscina_True', 'balcon_True', \n",
    "       'a_estrenar_True', 'parking_True',\n",
    "       'property_type_house',\n",
    "       'seguridad_True', 'subte_True',\n",
    "       'metrobus_True', 'tren_True', \"gimnasio_True\",\"parque_True\",\n",
    "       'place_name_Almagro', 'place_name_Belgrano', 'place_name_Caballito',\n",
    "       'place_name_Florida', 'place_name_La Lucila', 'place_name_Martínez',\n",
    "       'place_name_Nuñez', 'place_name_Olivos', 'place_name_Palermo',\n",
    "       'place_name_Saavedra', 'place_name_San Isidro',\n",
    "       'place_name_Vicente López', 'place_name_Villa Crespo', 'rooms_nm',\n",
    "       'surface_uncovered_nm',\n",
    "       'place_name_house_Acassuso house',\n",
    "       'place_name_house_Almagro house', \n",
    "       'place_name_house_Belgrano house',\n",
    "       'place_name_house_Caballito house',\n",
    "       'place_name_house_Florida house',\n",
    "       'place_name_house_La Lucila house',\n",
    "       'place_name_house_Martínez house', \n",
    "       'place_name_house_Nuñez house',\n",
    "       'place_name_house_Olivos house',\n",
    "       'place_name_house_Palermo house',\n",
    "       'place_name_house_Saavedra house',\n",
    "       'place_name_house_San Isidro house',\n",
    "       'place_name_house_Vicente López house',\n",
    "     'place_name_house_Villa Crespo house']]   \n",
    "    \n",
    "y = data_final.price_m2\n",
    "\n",
    "X_train, X_test, y_train, y_test = train_test_split(X, y, test_size = 0.25, random_state = 111)\n",
    "\n",
    "lm_lasso = linear_model.LassoCV(alphas= [0.001,0.01,0.05, 0.06, 0.07, 0.08, 0.1, 0.12, 0.15, 0.2, 0.3, 0.95,0.96, 0.97,1.0,2.0, 10.0, 15.0,30.0], \n",
    "                                  fit_intercept=True, normalize=False, cv=5, max_iter=1e4)\n",
    "\n",
    "# hora le decimos que ajuste el modelo con los datos de entrenamiento.\n",
    "\n",
    "model_cv_lasso = lm_lasso.fit(X_train, y_train)\n"
   ]
  },
  {
   "cell_type": "code",
   "execution_count": 36,
   "id": "113d84d8",
   "metadata": {},
   "outputs": [
    {
     "data": {
      "text/plain": [
       "0.1"
      ]
     },
     "execution_count": 36,
     "metadata": {},
     "output_type": "execute_result"
    }
   ],
   "source": [
    "best_alpha_lasso = model_cv_lasso.alpha_\n",
    "best_alpha_lasso"
   ]
  },
  {
   "cell_type": "markdown",
   "id": "e04e3317",
   "metadata": {},
   "source": [
    "El mejor alpha que encontramos es 0.1. Dada la ecuación de Lasso, este valor minimiza la función de costo. <br>\n",
    "Ahora vamos a utilizar este alpha para entrenar el modelo."
   ]
  },
  {
   "cell_type": "code",
   "execution_count": 37,
   "id": "564094ae",
   "metadata": {},
   "outputs": [],
   "source": [
    "model_lasso = linear_model.Lasso(alpha = best_alpha_lasso, fit_intercept = True, normalize = False)\n",
    "model_fit_lasso = model_lasso.fit(X_train, y_train)"
   ]
  },
  {
   "cell_type": "markdown",
   "id": "95e77afc",
   "metadata": {},
   "source": [
    "Imprimimos los coeficientes y el intercepto del modelo."
   ]
  },
  {
   "cell_type": "code",
   "execution_count": 38,
   "id": "14962949",
   "metadata": {},
   "outputs": [
    {
     "name": "stdout",
     "output_type": "stream",
     "text": [
      "[ 3.25574459e+02 -5.84208593e+00 -1.96595628e+01  1.49094415e+02\n",
      " -8.23998436e+02  7.92494855e+01 -5.87739253e+01 -2.25551172e+02\n",
      "  1.03088537e+02  1.08924335e+02  1.07700974e+01 -4.29170991e+02\n",
      "  3.44167063e+02 -1.95693133e+02 -2.26758137e+02  7.00237996e+02\n",
      "  5.37562266e+02  1.90327196e+02  3.21801452e+02  3.88386810e+02\n",
      " -2.94255403e+02 -5.53952080e+01  4.18301902e+02 -9.19534025e+01\n",
      "  1.20303427e+02 -1.15962431e+04 -5.06265860e+02  2.78287081e+02\n",
      "  1.88386795e+02  1.04609704e+02 -2.38772182e+01 -2.84181393e+02\n",
      " -6.02748569e+02  4.89720647e+01 -4.74677248e+02  7.89257670e+01\n",
      "  3.98341937e+01 -0.00000000e+00 -3.56290311e+02 -4.77311382e+01]\n",
      "10837.469734686158\n"
     ]
    }
   ],
   "source": [
    "print(model_fit_lasso.coef_)\n",
    "print(model_fit_lasso.intercept_)"
   ]
  },
  {
   "cell_type": "markdown",
   "id": "036ab406",
   "metadata": {},
   "source": [
    "Parece haber varias variables que pierden total relevancia cuando aplicamos Lasso, por lo cual si usaramos este modelo quedarían descartadas."
   ]
  },
  {
   "cell_type": "markdown",
   "id": "eebca8d5",
   "metadata": {},
   "source": [
    "Por último, analizamos las métricas obtenidas."
   ]
  },
  {
   "cell_type": "code",
   "execution_count": 39,
   "id": "80b6d448",
   "metadata": {},
   "outputs": [
    {
     "name": "stdout",
     "output_type": "stream",
     "text": [
      "R2 Lasso con datos de entrenamiento:  0.348\n",
      "R2 Lasso con datos de testeo:  0.321\n",
      "RMSE Lasso con datos de entrenamiento:  614.52\n",
      "RMSE Lasso con datos de testeo:  614.61\n",
      "MAE Lasso con datos de enternamiento:  465.35\n",
      "MAE Lasso con datos de testeo:  451.27\n"
     ]
    }
   ],
   "source": [
    "lasso_prediction_train = model_fit_lasso.predict(X_train)\n",
    "lasso_prediction_test = model_fit_lasso.predict(X_test)\n",
    "\n",
    "print(\"R2 Lasso con datos de entrenamiento: \", round(r2_score(y_train, lasso_prediction_train),3))\n",
    "print(\"R2 Lasso con datos de testeo: \", round(r2_score(y_test, lasso_prediction_test),3))\n",
    "\n",
    "print(\"RMSE Lasso con datos de entrenamiento: \", round(np.sqrt(mean_squared_error(y_train,lasso_prediction_train)),2))\n",
    "print(\"RMSE Lasso con datos de testeo: \", round(np.sqrt(mean_squared_error(y_test, lasso_prediction_test)),2)) \n",
    "\n",
    "print(\"MAE Lasso con datos de enternamiento: \", round(eval_measures.meanabs(y_train, lasso_prediction_train),2))\n",
    "print(\"MAE Lasso con datos de testeo: \", round(eval_measures.meanabs(y_test, lasso_prediction_test),2))"
   ]
  },
  {
   "cell_type": "code",
   "execution_count": 40,
   "id": "7391444a",
   "metadata": {},
   "outputs": [],
   "source": [
    "R2_lasso_train = round(r2_score(y_train, lasso_prediction_train),3)\n",
    "R2_lasso_test = round(r2_score(y_test, lasso_prediction_test),3)\n",
    "\n",
    "RMSE_lasso_train = round(np.sqrt(mean_squared_error(y_train,lasso_prediction_train)),2)\n",
    "RMSE_lasso_test = round(np.sqrt(mean_squared_error(y_test, lasso_prediction_test)),2)\n",
    "\n",
    "MSE_lasso_train = round(mean_squared_error(y_train,lasso_prediction_train),2)\n",
    "MSE_lasso_test = round(mean_squared_error(y_test, lasso_prediction_test),2)\n",
    "\n",
    "MAE_lasso_train = round(eval_measures.meanabs(y_train, lasso_prediction_train),2)\n",
    "MAE_lasso_test = round(eval_measures.meanabs(y_test, lasso_prediction_test),2)"
   ]
  },
  {
   "cell_type": "code",
   "execution_count": 41,
   "id": "33766aff",
   "metadata": {},
   "outputs": [
    {
     "data": {
      "image/png": "[encoded data removed]",
      "text/plain": [
       "<Figure size 432x216 with 1 Axes>"
      ]
     },
     "metadata": {
      "needs_background": "light"
     },
     "output_type": "display_data"
    }
   ],
   "source": [
    "lasso_r2_labels = ['R2 Lasso train', 'R2 Lasso test']\n",
    "lasso_r2_values = [R2_lasso_train, R2_lasso_test]\n",
    "\n",
    "fig = plt.figure(figsize = (6, 3))\n",
    "ax = plt.axes()\n",
    "width=0.4\n",
    "labels= lasso_r2_labels\n",
    "\n",
    "x = np.arange(len(lasso_r2_labels))\n",
    "y = (lasso_r2_values)\n",
    "\n",
    "ax.set_yticks(x)\n",
    "ax.set_yticklabels(lasso_r2_labels,fontsize=15)\n",
    "ax.set_title('Lasso R2', fontsize = 20)\n",
    "\n",
    "ax.set_xticks(y)\n",
    "ax.set_xticklabels(lasso_r2_values,fontsize=15)\n",
    "ax.set_xlim(0, 0.45)\n",
    "\n",
    "x_ticks = [0, 0.1, 0.2, 0.3, 0.4]\n",
    "plt.xticks(ticks = x_ticks, labels = x_ticks)\n",
    "\n",
    "bars = ax.barh(x, y, width, data = lasso_r2_values, color='darkseagreen',edgecolor=\"black\", linewidth=1)\n",
    "ax.invert_yaxis()\n",
    "\n",
    "for i, v in enumerate(y):\n",
    "    ax.text(v+.01, i +.1, str(v), fontsize=20)\n",
    "plt.show()\n"
   ]
  },
  {
   "cell_type": "code",
   "execution_count": 42,
   "id": "e343f839",
   "metadata": {},
   "outputs": [
    {
     "data": {
      "image/png": "[encoded data removed]",
      "text/plain": [
       "<Figure size 432x216 with 1 Axes>"
      ]
     },
     "metadata": {
      "needs_background": "light"
     },
     "output_type": "display_data"
    }
   ],
   "source": [
    "lasso_rmse_labels = ['Lasso RMSE train', 'Lasso RMSE test']\n",
    "lasso_rmse_values = [RMSE_lasso_train, RMSE_lasso_test]\n",
    "\n",
    "fig = plt.figure(figsize = (6, 3))\n",
    "ax = plt.axes()\n",
    "width=0.4\n",
    "labels= lasso_rmse_labels\n",
    "\n",
    "x = np.arange(len(lasso_rmse_labels))\n",
    "y = (lasso_rmse_values)\n",
    "\n",
    "ax.set_yticks(x)\n",
    "ax.set_yticklabels(lasso_rmse_labels,fontsize=15)\n",
    "ax.set_title('Lasso RMSE', fontsize = 20)\n",
    "\n",
    "ax.set_xticks(y)\n",
    "ax.set_xticklabels(lasso_rmse_values,fontsize=15)\n",
    "ax.set_xlim(0, 830)\n",
    "\n",
    "x_ticks = [0, 100, 200, 300, 400, 500, 600]\n",
    "plt.xticks(ticks = x_ticks, labels = x_ticks)\n",
    "\n",
    "bars = ax.barh(x, y, width, data = lasso_rmse_values, color='darkseagreen',edgecolor=\"black\", linewidth=1)\n",
    "ax.invert_yaxis()\n",
    "\n",
    "for i, v in enumerate(y):\n",
    "    ax.text(v+25, i+.05, str(v), fontsize=20)\n",
    "plt.show()"
   ]
  },
  {
   "cell_type": "code",
   "execution_count": 43,
   "id": "db3449de",
   "metadata": {},
   "outputs": [
    {
     "data": {
      "image/png": "[encoded data removed]",
      "text/plain": [
       "<Figure size 432x216 with 1 Axes>"
      ]
     },
     "metadata": {
      "needs_background": "light"
     },
     "output_type": "display_data"
    }
   ],
   "source": [
    "lasso_mse_labels = ['MSE train', 'MSE test']\n",
    "lasso_mse_values = [MSE_lasso_train, MSE_lasso_test]\n",
    "\n",
    "fig = plt.figure(figsize = (6, 3))\n",
    "ax = plt.axes()\n",
    "width=0.4\n",
    "labels= lasso_mse_labels\n",
    "\n",
    "x = np.arange(len(lasso_mse_labels))\n",
    "y = (lasso_mse_values)\n",
    "\n",
    "ax.set_yticks(x)\n",
    "ax.set_yticklabels(lasso_mse_labels,fontsize=15)\n",
    "ax.set_title('Lasso MSE', fontsize = 20)\n",
    "\n",
    "ax.set_xticks(y)\n",
    "ax.set_xticklabels(lasso_mse_values,fontsize=15)\n",
    "ax.set_xlim(0, 850000)\n",
    "\n",
    "x_ticks = [0, 400000, 800000]\n",
    "plt.xticks(ticks = x_ticks, labels = x_ticks)\n",
    "\n",
    "bars = ax.barh(x, y, width, data = lasso_mse_values, color='darkseagreen',edgecolor=\"black\", linewidth=1)\n",
    "ax.invert_yaxis()\n",
    "\n",
    "for i, v in enumerate(y):\n",
    "    ax.text(v+140000, i+.1, str(v), fontsize=20)\n",
    "plt.show()"
   ]
  },
  {
   "cell_type": "code",
   "execution_count": 44,
   "id": "7c3a4679",
   "metadata": {},
   "outputs": [
    {
     "data": {
      "image/png": "[encoded data removed]",
      "text/plain": [
       "<Figure size 432x216 with 1 Axes>"
      ]
     },
     "metadata": {
      "needs_background": "light"
     },
     "output_type": "display_data"
    }
   ],
   "source": [
    "lasso_mae_labels = ['Lasso MAE train', 'Lasso MAE test']\n",
    "lasso_mae_values = [MAE_lasso_train, MAE_lasso_test]\n",
    "\n",
    "fig = plt.figure(figsize = (6, 3))\n",
    "ax = plt.axes()\n",
    "width=0.4\n",
    "labels= lasso_mae_labels\n",
    "\n",
    "x = np.arange(len(lasso_mae_labels))\n",
    "y = (lasso_mae_values)\n",
    "\n",
    "ax.set_yticks(x)\n",
    "ax.set_yticklabels(lasso_mae_labels,fontsize=15)\n",
    "ax.set_title('Lasso MAE', fontsize = 20)\n",
    "\n",
    "ax.set_xticks(y)\n",
    "ax.set_xticklabels(lasso_mae_values,fontsize=15)\n",
    "ax.set_xlim(0, 650)\n",
    "\n",
    "x_ticks = [0, 100, 200, 300, 400, 500]\n",
    "plt.xticks(ticks = x_ticks, labels = x_ticks)\n",
    "\n",
    "bars = ax.barh(x, y, width, data = lasso_mae_values, color='darkseagreen',edgecolor=\"black\", linewidth=1)\n",
    "ax.invert_yaxis()\n",
    "\n",
    "for i, v in enumerate(y):\n",
    "    ax.text(v+25, i+.05, str(v), fontsize=20)\n",
    "plt.show()"
   ]
  },
  {
   "cell_type": "markdown",
   "id": "e6540e54",
   "metadata": {},
   "source": [
    "Como podemos ver, tanto el R2 (baja) como el MSE (sube) empeoran cuando pasamos a los datos de testeo."
   ]
  },
  {
   "cell_type": "markdown",
   "id": "12df4600",
   "metadata": {},
   "source": [
    "### Regresión Ridge"
   ]
  },
  {
   "cell_type": "markdown",
   "id": "1661b516",
   "metadata": {},
   "source": [
    "Repetimos el mismo proceso que con Lasso. <br>\n",
    "De la misma forma, utilizaremos la técnica de Cross Validation para encontrar el mejor alpha para el conjunto de datos. <br>\n",
    "Dividimos el conjunto de datos en 5 folds, es decir, hacemos 5 entrenamientos, y se utilizan todos los valores de alpha que le indicamos manualmente. <br>\n",
    "De los cinco entrenamientos que hace, el modelo saca un promedio del error cuadrático medio, y decide cuál es el mejor alpha para regularizar. <br>\n",
    "Luego vamos a entrenar el modelo con ese alpha, que no es sino el valor del parámetro que minimiza el error cuadrático medio.\n"
   ]
  },
  {
   "cell_type": "code",
   "execution_count": 45,
   "id": "42e9b7de",
   "metadata": {},
   "outputs": [],
   "source": [
    "# Ridge\n",
    "\n",
    "X = data_final[['piscina_True', 'balcon_True', \n",
    "       'a_estrenar_True', 'parking_True',\n",
    "       'property_type_house',\n",
    "       'seguridad_True', 'subte_True',\n",
    "       'metrobus_True', 'tren_True', \"gimnasio_True\",\"parque_True\",\n",
    "       'place_name_Almagro', 'place_name_Belgrano', 'place_name_Caballito',\n",
    "       'place_name_Florida', 'place_name_La Lucila', 'place_name_Martínez',\n",
    "       'place_name_Nuñez', 'place_name_Olivos', 'place_name_Palermo',\n",
    "       'place_name_Saavedra', 'place_name_San Isidro',\n",
    "       'place_name_Vicente López', 'place_name_Villa Crespo', 'rooms_nm',\n",
    "       'surface_uncovered_nm',\n",
    "       'place_name_house_Acassuso house',\n",
    "       'place_name_house_Almagro house', \n",
    "       'place_name_house_Belgrano house',\n",
    "       'place_name_house_Caballito house',\n",
    "       'place_name_house_Florida house',\n",
    "       'place_name_house_La Lucila house',\n",
    "       'place_name_house_Martínez house', \n",
    "       'place_name_house_Nuñez house',\n",
    "       'place_name_house_Olivos house',\n",
    "       'place_name_house_Palermo house',\n",
    "       'place_name_house_Saavedra house',\n",
    "       'place_name_house_San Isidro house',\n",
    "       'place_name_house_Vicente López house',\n",
    "     'place_name_house_Villa Crespo house']]   \n",
    "    \n",
    "y = data_final.price_m2\n",
    "\n",
    "X_train, X_test, y_train, y_test = train_test_split(X, y, test_size = 0.25, random_state = 110)\n",
    "\n",
    "lm_ridge = linear_model.RidgeCV(alphas= [0.1, 0.3, 0.4,0.5, 1.0, 1.1, 1.15, 1.17, 1.18, 1.19, 1.2, 1.21, 1.22, 1.3, 1.4, 1.5, 3.4, 5, 10.0], \n",
    "                                   fit_intercept=True, normalize=False, cv=10)\n",
    "\n",
    "model_cv_ridge = lm_ridge.fit(X_train, y_train)"
   ]
  },
  {
   "cell_type": "code",
   "execution_count": 46,
   "id": "e2f8b84f",
   "metadata": {},
   "outputs": [
    {
     "data": {
      "text/plain": [
       "0.1"
      ]
     },
     "execution_count": 46,
     "metadata": {},
     "output_type": "execute_result"
    }
   ],
   "source": [
    "best_alpha_ridge = model_cv_ridge.alpha_\n",
    "best_alpha_ridge"
   ]
  },
  {
   "cell_type": "markdown",
   "id": "19ed7573",
   "metadata": {},
   "source": [
    "El mejor alpha que encontramos también es 0.1. Dada la ecuación de Ridge, este valor minimiza la función de costo. <br>\n",
    "Ahora vamos a utilizar este alpha para entrenar el modelo."
   ]
  },
  {
   "cell_type": "code",
   "execution_count": 47,
   "id": "67e39427",
   "metadata": {},
   "outputs": [],
   "source": [
    "model_ridge = linear_model.Ridge(alpha = best_alpha_ridge, fit_intercept = True, normalize = False)\n",
    "model_fit_ridge = model_ridge.fit(X_train, y_train)"
   ]
  },
  {
   "cell_type": "markdown",
   "id": "0f2e8f96",
   "metadata": {},
   "source": [
    "Analizamos los coeficientes obtenidos. A diferencia del Lasso, ningún coeficiente se hace 0. Es decir, el modelo no descarta ninguna variable."
   ]
  },
  {
   "cell_type": "code",
   "execution_count": 48,
   "id": "bf9c1ba8",
   "metadata": {},
   "outputs": [
    {
     "name": "stdout",
     "output_type": "stream",
     "text": [
      "[ 3.21291157e+02 -1.95076976e+01 -4.03264682e+01  1.91018845e+02\n",
      " -8.85366659e+02  7.30758812e+01 -6.69546600e+01 -2.11523515e+02\n",
      "  1.36077373e+02  1.21503804e+02 -1.49497136e+01 -3.89086572e+02\n",
      "  3.83797942e+02 -1.56314913e+02 -2.71354742e+02  7.32637288e+02\n",
      "  5.89054199e+02  2.41190449e+02  4.34896084e+02  4.52458062e+02\n",
      " -2.45436094e+02 -3.21065053e+01  4.65372539e+02 -7.83620551e+01\n",
      "  1.67322789e+03 -1.02853309e+04 -5.01885076e+02  2.81777844e+02\n",
      "  3.59489873e+02  1.53975362e+02  8.49375318e+01 -2.71629568e+02\n",
      " -5.69383531e+02  1.78557446e+02 -5.25753407e+02  9.55641721e+00\n",
      "  1.11463429e+02  4.83649247e+01 -2.95851602e+02  5.10136989e+01]\n",
      "9871.924765961825\n"
     ]
    }
   ],
   "source": [
    "print(model_fit_ridge.coef_)\n",
    "print(model_fit_ridge.intercept_)"
   ]
  },
  {
   "cell_type": "markdown",
   "id": "47594be5",
   "metadata": {},
   "source": [
    "Por último, nos quedamos con las métricas de Ridge"
   ]
  },
  {
   "cell_type": "code",
   "execution_count": 49,
   "id": "475b64f9",
   "metadata": {},
   "outputs": [
    {
     "name": "stdout",
     "output_type": "stream",
     "text": [
      "R2 Ridge con datos de entrenamiento:  0.361\n",
      "R2 Ridge con datos de testeo:  0.292\n",
      "RMSE Ridge con datos de entrenamiento:  606.01\n",
      "RMSE Ridge con datos de testeo:  635.34\n",
      "MAE Ridge con datos de entrenamiento:  459.45\n",
      "MAE Ridge con datos de testeo:  477.32\n"
     ]
    }
   ],
   "source": [
    "ridge_prediction_train = model_fit_ridge.predict(X_train)\n",
    "ridge_prediction_test = model_fit_ridge.predict(X_test)\n",
    "\n",
    "print(\"R2 Ridge con datos de entrenamiento: \", round(r2_score(y_train, ridge_prediction_train),3))\n",
    "print(\"R2 Ridge con datos de testeo: \", round(r2_score(y_test, ridge_prediction_test),3))\n",
    "\n",
    "print(\"RMSE Ridge con datos de entrenamiento: \", round(np.sqrt(mean_squared_error(y_train, ridge_prediction_train)),2))\n",
    "print(\"RMSE Ridge con datos de testeo: \", round(np.sqrt(mean_squared_error(y_test, ridge_prediction_test)),2)) \n",
    "\n",
    "print(\"MAE Ridge con datos de entrenamiento: \", round(eval_measures.meanabs(y_train, ridge_prediction_train),2))\n",
    "print(\"MAE Ridge con datos de testeo: \", round(eval_measures.meanabs(y_test, ridge_prediction_test),2))"
   ]
  },
  {
   "cell_type": "code",
   "execution_count": 50,
   "id": "dd5d92d9",
   "metadata": {},
   "outputs": [],
   "source": [
    "R2_ridge_train = round(r2_score(y_train, ridge_prediction_train),3)\n",
    "R2_ridge_test = round(r2_score(y_test, ridge_prediction_test),3)\n",
    "\n",
    "RMSE_ridge_train = round(np.sqrt(mean_squared_error(y_train,ridge_prediction_train)),2)\n",
    "RMSE_ridge_test = round(np.sqrt(mean_squared_error(y_test, ridge_prediction_test)),2)\n",
    "\n",
    "MSE_ridge_train = round(mean_squared_error(y_train,ridge_prediction_train),2)\n",
    "MSE_ridge_test = round(mean_squared_error(y_test, ridge_prediction_test),2)\n",
    "\n",
    "MAE_ridge_train = round(eval_measures.meanabs(y_train, ridge_prediction_train),2)\n",
    "MAE_ridge_test = round(eval_measures.meanabs(y_test, ridge_prediction_test),2)"
   ]
  },
  {
   "cell_type": "code",
   "execution_count": 51,
   "id": "185cbf1c",
   "metadata": {},
   "outputs": [
    {
     "data": {
      "image/png": "[encoded data removed]",
      "text/plain": [
       "<Figure size 432x216 with 1 Axes>"
      ]
     },
     "metadata": {
      "needs_background": "light"
     },
     "output_type": "display_data"
    }
   ],
   "source": [
    "ridge_r2_labels = ['R2 Ridge train', 'R2 Ridge test']\n",
    "ridge_r2_values = [R2_ridge_train, R2_ridge_test]\n",
    "\n",
    "fig = plt.figure(figsize = (6, 3))\n",
    "ax = plt.axes()\n",
    "width=0.4\n",
    "labels= ridge_r2_labels\n",
    "\n",
    "x = np.arange(len(ridge_r2_labels))\n",
    "y = (ridge_r2_values)\n",
    "\n",
    "ax.set_yticks(x)\n",
    "ax.set_yticklabels(ridge_r2_labels,fontsize=15)\n",
    "ax.set_title('Ridge R2', fontsize = 20)\n",
    "\n",
    "ax.set_xticks(y)\n",
    "ax.set_xticklabels(ridge_r2_values,fontsize=15)\n",
    "ax.set_xlim(0, 0.45)\n",
    "\n",
    "x_ticks = [0, 0.1, 0.2, 0.3, 0.4]\n",
    "plt.xticks(ticks = x_ticks, labels = x_ticks)\n",
    "\n",
    "bars = ax.barh(x, y, width, data = ridge_r2_values, color='darkseagreen',edgecolor=\"black\", linewidth=1)\n",
    "ax.invert_yaxis()\n",
    "\n",
    "for i, v in enumerate(y):\n",
    "    ax.text(v+.01, i +.1, str(v), fontsize=20)\n",
    "plt.show()"
   ]
  },
  {
   "cell_type": "code",
   "execution_count": 52,
   "id": "7678b2fe",
   "metadata": {},
   "outputs": [
    {
     "data": {
      "image/png": "[encoded data removed]",
      "text/plain": [
       "<Figure size 432x216 with 1 Axes>"
      ]
     },
     "metadata": {
      "needs_background": "light"
     },
     "output_type": "display_data"
    }
   ],
   "source": [
    "ridge_rmse_labels = ['Ridge RMSE train', 'Ridge RMSE test']\n",
    "ridge_rmse_values = [RMSE_ridge_train, RMSE_ridge_test]\n",
    "\n",
    "fig = plt.figure(figsize = (6, 3))\n",
    "ax = plt.axes()\n",
    "width=0.4\n",
    "labels= ridge_rmse_labels\n",
    "\n",
    "x = np.arange(len(ridge_rmse_labels))\n",
    "y = (ridge_rmse_values)\n",
    "\n",
    "ax.set_yticks(x)\n",
    "ax.set_yticklabels(ridge_rmse_labels,fontsize=15)\n",
    "ax.set_title('Ridge RMSE', fontsize = 20)\n",
    "\n",
    "ax.set_xticks(y)\n",
    "ax.set_xticklabels(ridge_rmse_values,fontsize=15)\n",
    "ax.set_xlim(0, 830)\n",
    "\n",
    "x_ticks = [0, 100, 200, 300, 400, 500, 600]\n",
    "plt.xticks(ticks = x_ticks, labels = x_ticks)\n",
    "\n",
    "bars = ax.barh(x, y, width, data = ridge_rmse_values, color='darkseagreen',edgecolor=\"black\", linewidth=1)\n",
    "ax.invert_yaxis()\n",
    "\n",
    "for i, v in enumerate(y):\n",
    "    ax.text(v+25, i+.05, str(v), fontsize=20)\n",
    "plt.show()"
   ]
  },
  {
   "cell_type": "code",
   "execution_count": 53,
   "id": "384536f2",
   "metadata": {},
   "outputs": [
    {
     "data": {
      "image/png": "[encoded data removed]",
      "text/plain": [
       "<Figure size 432x216 with 1 Axes>"
      ]
     },
     "metadata": {
      "needs_background": "light"
     },
     "output_type": "display_data"
    }
   ],
   "source": [
    "ridge_mse_labels = ['MSE Ridge train', 'MSE Ridge test']\n",
    "ridge_mse_values = [MSE_ridge_train, MSE_ridge_test]\n",
    "\n",
    "fig = plt.figure(figsize = (6, 3))\n",
    "ax = plt.axes()\n",
    "width=0.4\n",
    "labels= ridge_mse_labels\n",
    "\n",
    "x = np.arange(len(ridge_mse_labels))\n",
    "y = (ridge_mse_values)\n",
    "\n",
    "ax.set_yticks(x)\n",
    "ax.set_yticklabels(ridge_mse_labels,fontsize=15)\n",
    "ax.set_title('Ridge MSE', fontsize = 20)\n",
    "\n",
    "ax.set_xticks(y)\n",
    "ax.set_xticklabels(ridge_mse_values,fontsize=15)\n",
    "ax.set_xlim(0, 700000)\n",
    "\n",
    "x_ticks = [0, 400000]\n",
    "plt.xticks(ticks = x_ticks, labels = x_ticks)\n",
    "\n",
    "bars = ax.barh(x, y, width, data = ridge_mse_values, color='darkseagreen',edgecolor=\"black\", linewidth=1)\n",
    "ax.invert_yaxis()\n",
    "\n",
    "for i, v in enumerate(y):\n",
    "    ax.text(v+50000, i+.1, str(v), fontsize=20)\n",
    "plt.show()"
   ]
  },
  {
   "cell_type": "code",
   "execution_count": 54,
   "id": "985ab52a",
   "metadata": {},
   "outputs": [
    {
     "data": {
      "image/png": "[encoded data removed]",
      "text/plain": [
       "<Figure size 432x216 with 1 Axes>"
      ]
     },
     "metadata": {
      "needs_background": "light"
     },
     "output_type": "display_data"
    }
   ],
   "source": [
    "ridge_mae_labels = ['Ridge MAE train', 'Ridge MAE test']\n",
    "ridge_mae_values = [MAE_ridge_train, MAE_ridge_test]\n",
    "\n",
    "fig = plt.figure(figsize = (6, 3))\n",
    "ax = plt.axes()\n",
    "width=0.4\n",
    "labels= ridge_mae_labels\n",
    "\n",
    "x = np.arange(len(ridge_mae_labels))\n",
    "y = (ridge_mae_values)\n",
    "\n",
    "ax.set_yticks(x)\n",
    "ax.set_yticklabels(ridge_mae_labels,fontsize=15)\n",
    "ax.set_title('Ridge MAE', fontsize = 20)\n",
    "\n",
    "ax.set_xticks(y)\n",
    "ax.set_xticklabels(ridge_mae_values,fontsize=15)\n",
    "ax.set_xlim(0, 650)\n",
    "\n",
    "x_ticks = [0, 100, 200, 300, 400, 500]\n",
    "plt.xticks(ticks = x_ticks, labels = x_ticks)\n",
    "\n",
    "bars = ax.barh(x, y, width, data = ridge_mae_values, color='darkseagreen',edgecolor=\"black\", linewidth=1)\n",
    "ax.invert_yaxis()\n",
    "\n",
    "for i, v in enumerate(y):\n",
    "    ax.text(v+25, i+.05, str(v), fontsize=20)\n",
    "plt.show()"
   ]
  },
  {
   "cell_type": "code",
   "execution_count": 55,
   "id": "40707956",
   "metadata": {},
   "outputs": [],
   "source": [
    "# data_final.to_csv('data_final.csv')"
   ]
  },
  {
   "cell_type": "code",
   "execution_count": 56,
   "id": "463835c2",
   "metadata": {},
   "outputs": [
    {
     "name": "stdout",
     "output_type": "stream",
     "text": [
      "            Sin regularizar    Lasso    Ridge\n",
      "R2 train              0.349    0.348    0.361\n",
      "R2 test               0.307    0.321    0.292\n",
      "RMSE train          614.290  614.520  606.010\n",
      "RMSE test           621.050  614.610  635.340\n",
      "MAE train           465.060  465.350  459.450\n",
      "MAE test            451.500  451.270  477.320\n"
     ]
    }
   ],
   "source": [
    "resultados = {\n",
    "        'Sin regularizar':  [R2_train, R2_test, RMSE_train, RMSE_test, MAE_train, MAE_test],\n",
    "        'Lasso': [R2_lasso_train, R2_lasso_test, RMSE_lasso_train, RMSE_lasso_test, MAE_lasso_train, MAE_lasso_test],\n",
    "        'Ridge': [R2_ridge_train, R2_ridge_test, RMSE_ridge_train, RMSE_ridge_test, MAE_ridge_train, MAE_ridge_test]\n",
    "        }\n",
    "\n",
    "resultados = pd.DataFrame(resultados, index=['R2 train','R2 test','RMSE train','RMSE test','MAE train',\"MAE test\"])\n",
    "\n",
    "print (resultados)\n"
   ]
  },
  {
   "cell_type": "code",
   "execution_count": 57,
   "id": "9fec119b",
   "metadata": {},
   "outputs": [
    {
     "data": {
      "image/png": "[encoded data removed]",
      "text/plain": [
       "<Figure size 1080x360 with 3 Axes>"
      ]
     },
     "metadata": {
      "needs_background": "light"
     },
     "output_type": "display_data"
    }
   ],
   "source": [
    "labels = ['Sin regularizar', 'Ridge', 'Lasso']\n",
    "\n",
    "R2_train_1 = {R2_train,  R2_ridge_train, R2_lasso_train}\n",
    "R2_test_2 = {R2_test,  R2_ridge_test, R2_lasso_test}\n",
    "\n",
    "MSE_train_1 = {RMSE_train,  RMSE_ridge_train, RMSE_lasso_train}\n",
    "MSE_test_2 = {RMSE_test,  RMSE_ridge_test, RMSE_lasso_test}\n",
    "\n",
    "MAE_train_1 = {MAE_train,  MAE_ridge_train, MAE_lasso_train}\n",
    "MAE_test_2 = {MAE_test,  MAE_ridge_test, MAE_lasso_test}\n",
    "\n",
    "x = np.arange(len(labels))\n",
    "width = 0.3\n",
    "\n",
    "plt.figure(figsize=(15,5))\n",
    "\n",
    "plt.subplot(1,3,1)\n",
    "plt.title('R2', fontsize=18)\n",
    "plt.bar(x-width/2, R2_train_1, width, label='Entrenamiento', color=\"darkseagreen\")\n",
    "plt.bar(x+width/2, R2_test_2, width, label='Testeo', hatch='//', color = \"cadetblue\")\n",
    "plt.xticks([0,1,2], labels, fontsize=15)\n",
    "plt.ylim((0, 0.5))\n",
    "\n",
    "\n",
    "plt.subplot(1,3,2)\n",
    "plt.title('RMSE', fontsize=18)\n",
    "plt.bar(x-width/2, MSE_train_1, width,  color= \"darkseagreen\")\n",
    "plt.bar(x+width/2, MSE_test_2, width,hatch='//', color = \"cadetblue\")\n",
    "plt.xticks([0,1,2], labels, fontsize=15)\n",
    "plt.ylim((0, 800))\n",
    "\n",
    "plt.subplot(1,3,3)\n",
    "plt.title('MAE', fontsize=18)\n",
    "plt.bar(x-width/2, MAE_train_1, width, color=\"darkseagreen\")\n",
    "plt.bar(x+width/2, MAE_test_2, width, hatch='//', color = \"cadetblue\")\n",
    "plt.xticks([0,1,2], labels, fontsize=15)\n",
    "plt.ylim((0, 800))\n",
    "\n",
    "plt.figlegend(loc='upper right', ncol=1, labelspacing=0.5, fontsize=14, bbox_to_anchor=(1.15, 0.9))\n",
    "plt.tight_layout(w_pad=6) \n",
    "plt.show()"
   ]
  }
 ],
 "metadata": {
  "kernelspec": {
   "display_name": "Python 3 (ipykernel)",
   "language": "python",
   "name": "python3"
  },
  "language_info": {
   "codemirror_mode": {
    "name": "ipython",
    "version": 3
   },
   "file_extension": ".py",
   "mimetype": "text/x-python",
   "name": "python",
   "nbconvert_exporter": "python",
   "pygments_lexer": "ipython3",
   "version": "3.8.13"
  }
 },
 "nbformat": 4,
 "nbformat_minor": 5
}
